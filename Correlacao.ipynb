{
 "cells": [
  {
   "cell_type": "code",
   "execution_count": 1,
   "metadata": {},
   "outputs": [
    {
     "name": "stderr",
     "output_type": "stream",
     "text": [
      "\n",
      "Bad key text.latex.unicode in file C:\\Users\\andre\\Anaconda35\\lib\\site-packages\\matplotlib\\mpl-data\\stylelib\\_classic_test.mplstyle, line 112 ('text.latex.unicode : False # use \"ucs\" and \"inputenc\" LaTeX packages for handling')\n",
      "You probably need to get an updated matplotlibrc file from\n",
      "https://github.com/matplotlib/matplotlib/blob/v3.3.4/matplotlibrc.template\n",
      "or from the matplotlib source distribution\n",
      "\n",
      "Bad key text.dvipnghack in file C:\\Users\\andre\\Anaconda35\\lib\\site-packages\\matplotlib\\mpl-data\\stylelib\\_classic_test.mplstyle, line 127 (\"text.dvipnghack : None      # some versions of dvipng don't handle alpha\")\n",
      "You probably need to get an updated matplotlibrc file from\n",
      "https://github.com/matplotlib/matplotlib/blob/v3.3.4/matplotlibrc.template\n",
      "or from the matplotlib source distribution\n",
      "\n",
      "Bad key savefig.frameon in file C:\\Users\\andre\\Anaconda35\\lib\\site-packages\\matplotlib\\mpl-data\\stylelib\\_classic_test.mplstyle, line 430 ('savefig.frameon : True')\n",
      "You probably need to get an updated matplotlibrc file from\n",
      "https://github.com/matplotlib/matplotlib/blob/v3.3.4/matplotlibrc.template\n",
      "or from the matplotlib source distribution\n",
      "\n",
      "Bad key nbagg.transparent in file C:\\Users\\andre\\Anaconda35\\lib\\site-packages\\matplotlib\\mpl-data\\stylelib\\_classic_test.mplstyle, line 433 ('nbagg.transparent: True')\n",
      "You probably need to get an updated matplotlibrc file from\n",
      "https://github.com/matplotlib/matplotlib/blob/v3.3.4/matplotlibrc.template\n",
      "or from the matplotlib source distribution\n",
      "\n",
      "Bad key pgf.debug in file C:\\Users\\andre\\Anaconda35\\lib\\site-packages\\matplotlib\\mpl-data\\stylelib\\_classic_test.mplstyle, line 453 ('pgf.debug           : False')\n",
      "You probably need to get an updated matplotlibrc file from\n",
      "https://github.com/matplotlib/matplotlib/blob/v3.3.4/matplotlibrc.template\n",
      "or from the matplotlib source distribution\n",
      "\n",
      "Bad key verbose.level in file C:\\Users\\andre\\Anaconda35\\lib\\site-packages\\matplotlib\\mpl-data\\stylelib\\_classic_test.mplstyle, line 484 ('verbose.level  : silent      # one of silent, helpful, debug, debug-annoying')\n",
      "You probably need to get an updated matplotlibrc file from\n",
      "https://github.com/matplotlib/matplotlib/blob/v3.3.4/matplotlibrc.template\n",
      "or from the matplotlib source distribution\n",
      "\n",
      "Bad key verbose.fileo in file C:\\Users\\andre\\Anaconda35\\lib\\site-packages\\matplotlib\\mpl-data\\stylelib\\_classic_test.mplstyle, line 485 ('verbose.fileo  : sys.stdout  # a log filename, sys.stdout or sys.stderr')\n",
      "You probably need to get an updated matplotlibrc file from\n",
      "https://github.com/matplotlib/matplotlib/blob/v3.3.4/matplotlibrc.template\n",
      "or from the matplotlib source distribution\n",
      "\n",
      "Bad key animation.mencoder_path in file C:\\Users\\andre\\Anaconda35\\lib\\site-packages\\matplotlib\\mpl-data\\stylelib\\_classic_test.mplstyle, line 516 ('animation.mencoder_path: mencoder')\n",
      "You probably need to get an updated matplotlibrc file from\n",
      "https://github.com/matplotlib/matplotlib/blob/v3.3.4/matplotlibrc.template\n",
      "or from the matplotlib source distribution\n",
      "\n",
      "Bad key animation.mencoder_args in file C:\\Users\\andre\\Anaconda35\\lib\\site-packages\\matplotlib\\mpl-data\\stylelib\\_classic_test.mplstyle, line 519 ('animation.mencoder_args:          # Additional arguments to pass to mencoder')\n",
      "You probably need to get an updated matplotlibrc file from\n",
      "https://github.com/matplotlib/matplotlib/blob/v3.3.4/matplotlibrc.template\n",
      "or from the matplotlib source distribution\n",
      "In C:\\Users\\andre\\Anaconda35\\lib\\site-packages\\matplotlib\\mpl-data\\stylelib\\_classic_test.mplstyle: \n",
      "The text.latex.preview rcparam was deprecated in Matplotlib 3.3 and will be removed two minor releases later.\n",
      "In C:\\Users\\andre\\Anaconda35\\lib\\site-packages\\matplotlib\\mpl-data\\stylelib\\_classic_test.mplstyle: \n",
      "The mathtext.fallback_to_cm rcparam was deprecated in Matplotlib 3.3 and will be removed two minor releases later.\n",
      "In C:\\Users\\andre\\Anaconda35\\lib\\site-packages\\matplotlib\\mpl-data\\stylelib\\_classic_test.mplstyle: Support for setting the 'mathtext.fallback_to_cm' rcParam is deprecated since 3.3 and will be removed two minor releases later; use 'mathtext.fallback : 'cm' instead.\n",
      "In C:\\Users\\andre\\Anaconda35\\lib\\site-packages\\matplotlib\\mpl-data\\stylelib\\_classic_test.mplstyle: \n",
      "The validate_bool_maybe_none function was deprecated in Matplotlib 3.3 and will be removed two minor releases later.\n",
      "In C:\\Users\\andre\\Anaconda35\\lib\\site-packages\\matplotlib\\mpl-data\\stylelib\\_classic_test.mplstyle: \n",
      "The savefig.jpeg_quality rcparam was deprecated in Matplotlib 3.3 and will be removed two minor releases later.\n",
      "In C:\\Users\\andre\\Anaconda35\\lib\\site-packages\\matplotlib\\mpl-data\\stylelib\\_classic_test.mplstyle: \n",
      "The keymap.all_axes rcparam was deprecated in Matplotlib 3.3 and will be removed two minor releases later.\n",
      "In C:\\Users\\andre\\Anaconda35\\lib\\site-packages\\matplotlib\\mpl-data\\stylelib\\_classic_test.mplstyle: \n",
      "The animation.avconv_path rcparam was deprecated in Matplotlib 3.3 and will be removed two minor releases later.\n",
      "In C:\\Users\\andre\\Anaconda35\\lib\\site-packages\\matplotlib\\mpl-data\\stylelib\\_classic_test.mplstyle: \n",
      "The animation.avconv_args rcparam was deprecated in Matplotlib 3.3 and will be removed two minor releases later.\n"
     ]
    },
    {
     "name": "stdout",
     "output_type": "stream",
     "text": [
      "0\n",
      "Correlação entre ativos\n",
      "    level_0   level_1         0\n",
      "1  PETR4.SA  WEGE3.SA  0.450667\n",
      "Média sem ponderação das correlações\n",
      "0.45066693699594584\n"
     ]
    }
   ],
   "source": [
    "################################################################################################\n",
    "#name:correlacao e markowitz.py\n",
    "#desc:correlacao e calculo carteira markowitz. Dados semanais ou mensais\n",
    "#Author:ThalesM\n",
    "#\n",
    "################################################################################################\n",
    "#import statsmodels.api as sm # import statsmodels \n",
    "import pandas as pd\n",
    "import numpy as np, numpy.random\n",
    "from pandas_datareader import data as wb\n",
    "import seaborn as sns\n",
    "import datetime\n",
    "from datetime import datetime\n",
    "import time\n",
    "import matplotlib.pyplot as plt\n",
    "import math\n",
    "#import cufflinks as cf\n",
    "#import plotly.offline\n",
    "#cf.go_offline()\n",
    "#cf.set_config_file(offline=False, world_readable=True)\n",
    "%matplotlib inline\n",
    "Lista=['PETR4.SA','WEGE3.SA']\n",
    "Periodo='2018-07-30'\n",
    "dados=''\n",
    "#Lista=['GUAR3.SA','ITUB4.SA','RAIL3.SA']\n",
    "Rf1=6/100\n",
    "Rf=0\n",
    "def consulta_bc(codigo_bcb):\n",
    "  url = 'http://api.bcb.gov.br/dados/serie/bcdata.sgs.{}/dados?formato=json'.format(codigo_bcb)\n",
    "  PG = pd.read_json(url)\n",
    "  df=pd.DataFrame(PG)  \n",
    "  df['data'] = pd.to_datetime(df['data'], dayfirst=True)\n",
    "  df.set_index('data', inplace=True)\n",
    "  return df\n",
    "\n",
    "def retornos(Acao):\n",
    "    fim='2015-07-01'\n",
    "    PG = wb.DataReader(Acao, data_source=\"yahoo\", start=Periodo)\n",
    "    df=pd.DataFrame(PG)\n",
    "    del df['High']\n",
    "    del df['Close']\n",
    "    del df['Low']\n",
    "    del df['Open']\n",
    "    del df['Volume']\n",
    "    if dados=='M' or dados=='W':\n",
    "        df=df.resample(dados).last()\n",
    "    #print(df)\n",
    "    chg=df['Adj Close'].pct_change()\n",
    "    chg.column=['Acao']\n",
    "    #print (type(chg))\n",
    "    return (chg)\n",
    "\n",
    "bovespa=pd.DataFrame()\n",
    "bovespa['^BVSP']=retornos('^BVSP')\n",
    "\n",
    "tamanhoLista=len(Lista)\n",
    "\n",
    "#cálculo Rf pro sharpe\n",
    "if dados=='M':\n",
    "    Rf=(1+Rf1)**(1/12)-1\n",
    "if dados=='W':\n",
    "    Rf=(1+Rf1)**(1/52)-1 \n",
    "print(Rf)\n",
    "dfretornos=pd.DataFrame()\n",
    "pesos=pd.DataFrame(Lista)\n",
    "for papel in Lista:\n",
    "    \n",
    "    dfretornos[papel]=retornos(papel)\n",
    "\n",
    "\n",
    "dataCorr = dfretornos.corr()\n",
    "for papel in Lista:\n",
    "    pesos['Pesos']=1/tamanhoLista\n",
    "pesos.rename(columns={0:'Ativos'}, inplace = True)\n",
    "pesos=pesos.set_index('Ativos')\n",
    "\n",
    "\n",
    "\n",
    "av=pd.Series(dfretornos.mean(axis=0))\n",
    "std=dfretornos.std(axis=0)\n",
    "cov=dfretornos.cov()\n",
    "matrixav=np.array(av)[np.newaxis]\n",
    "corr=dfretornos.corr()\n",
    "\n",
    "\n",
    "#print(dfretornos)\n",
    "#sns.heatmap(dataCorr, annot=True)\n",
    "#plt.show()\n",
    "\n",
    "\n",
    "dataCorr = dataCorr[abs(dataCorr) >= 0.01].stack().reset_index()\n",
    "dataCorr = dataCorr[dataCorr['level_0'].astype(str)!=dataCorr['level_1'].astype(str)]\n",
    " \n",
    "# filtering out lower/upper triangular duplicates \n",
    "dataCorr['ordered-cols'] = dataCorr.apply(lambda x: '-'.join(sorted([x['level_0'],x['level_1']])),axis=1)\n",
    "dataCorr = dataCorr.drop_duplicates(['ordered-cols'])\n",
    "dataCorr.drop(['ordered-cols'], axis=1, inplace=True)\n",
    "print('Correlação entre ativos') \n",
    "print(dataCorr.sort_values(by=[0], ascending=False))\n",
    "\n",
    "print('Média sem ponderação das correlações')\n",
    "print(dataCorr[0].mean())\n",
    "#sns.distplot(dfretornos['SGPS3.SA'],kde=False,bins=50)"
   ]
  },
  {
   "cell_type": "code",
   "execution_count": 2,
   "metadata": {},
   "outputs": [
    {
     "data": {
      "text/html": [
       "<div>\n",
       "<style scoped>\n",
       "    .dataframe tbody tr th:only-of-type {\n",
       "        vertical-align: middle;\n",
       "    }\n",
       "\n",
       "    .dataframe tbody tr th {\n",
       "        vertical-align: top;\n",
       "    }\n",
       "\n",
       "    .dataframe thead th {\n",
       "        text-align: right;\n",
       "    }\n",
       "</style>\n",
       "<table border=\"1\" class=\"dataframe\">\n",
       "  <thead>\n",
       "    <tr style=\"text-align: right;\">\n",
       "      <th></th>\n",
       "      <th>PETR4.SA</th>\n",
       "      <th>WEGE3.SA</th>\n",
       "    </tr>\n",
       "  </thead>\n",
       "  <tbody>\n",
       "    <tr>\n",
       "      <th>count</th>\n",
       "      <td>643.000000</td>\n",
       "      <td>643.000000</td>\n",
       "    </tr>\n",
       "    <tr>\n",
       "      <th>mean</th>\n",
       "      <td>0.000954</td>\n",
       "      <td>0.002538</td>\n",
       "    </tr>\n",
       "    <tr>\n",
       "      <th>std</th>\n",
       "      <td>0.033650</td>\n",
       "      <td>0.027048</td>\n",
       "    </tr>\n",
       "    <tr>\n",
       "      <th>min</th>\n",
       "      <td>-0.296978</td>\n",
       "      <td>-0.206197</td>\n",
       "    </tr>\n",
       "    <tr>\n",
       "      <th>25%</th>\n",
       "      <td>-0.012912</td>\n",
       "      <td>-0.010650</td>\n",
       "    </tr>\n",
       "    <tr>\n",
       "      <th>50%</th>\n",
       "      <td>0.000880</td>\n",
       "      <td>0.003284</td>\n",
       "    </tr>\n",
       "    <tr>\n",
       "      <th>75%</th>\n",
       "      <td>0.015075</td>\n",
       "      <td>0.015386</td>\n",
       "    </tr>\n",
       "    <tr>\n",
       "      <th>max</th>\n",
       "      <td>0.222222</td>\n",
       "      <td>0.138945</td>\n",
       "    </tr>\n",
       "  </tbody>\n",
       "</table>\n",
       "</div>"
      ],
      "text/plain": [
       "         PETR4.SA    WEGE3.SA\n",
       "count  643.000000  643.000000\n",
       "mean     0.000954    0.002538\n",
       "std      0.033650    0.027048\n",
       "min     -0.296978   -0.206197\n",
       "25%     -0.012912   -0.010650\n",
       "50%      0.000880    0.003284\n",
       "75%      0.015075    0.015386\n",
       "max      0.222222    0.138945"
      ]
     },
     "execution_count": 2,
     "metadata": {},
     "output_type": "execute_result"
    }
   ],
   "source": [
    "dfretornos.describe()"
   ]
  },
  {
   "cell_type": "code",
   "execution_count": 3,
   "metadata": {},
   "outputs": [
    {
     "name": "stdout",
     "output_type": "stream",
     "text": [
      "            PETR4.SA  WEGE3.SA\n",
      "Date                          \n",
      "2018-07-30       NaN       NaN\n",
      "2018-07-31 -0.008547 -0.004839\n",
      "2018-08-01  0.014706 -0.010805\n",
      "2018-08-02  0.019990 -0.019115\n",
      "2018-08-03  0.034297  0.009465\n",
      "...              ...       ...\n",
      "2021-03-09  0.023223  0.033984\n",
      "2021-03-10  0.034738  0.010909\n",
      "2021-03-11  0.042525 -0.004981\n",
      "2021-03-12 -0.005152 -0.010706\n",
      "2021-03-16  0.009063  0.018131\n",
      "\n",
      "[644 rows x 2 columns]\n"
     ]
    }
   ],
   "source": [
    "print(dfretornos)"
   ]
  },
  {
   "cell_type": "code",
   "execution_count": 4,
   "metadata": {
    "collapsed": true
   },
   "outputs": [],
   "source": [
    "#sns.distplot(dfretornos['BRFS3.SA'],kde=False,bins=50)"
   ]
  },
  {
   "cell_type": "code",
   "execution_count": 5,
   "metadata": {
    "collapsed": true
   },
   "outputs": [],
   "source": [
    "#av.head()"
   ]
  },
  {
   "cell_type": "code",
   "execution_count": 6,
   "metadata": {
    "collapsed": true
   },
   "outputs": [],
   "source": [
    "#print(std)"
   ]
  },
  {
   "cell_type": "code",
   "execution_count": 7,
   "metadata": {
    "collapsed": true
   },
   "outputs": [],
   "source": [
    "#print(cov)"
   ]
  },
  {
   "cell_type": "code",
   "execution_count": 8,
   "metadata": {
    "collapsed": true
   },
   "outputs": [],
   "source": [
    "#print(len(Lista))"
   ]
  },
  {
   "cell_type": "code",
   "execution_count": 9,
   "metadata": {
    "collapsed": true
   },
   "outputs": [],
   "source": [
    "#print(matrixav)"
   ]
  },
  {
   "cell_type": "code",
   "execution_count": 10,
   "metadata": {
    "collapsed": true
   },
   "outputs": [],
   "source": [
    "matrixpesos=np.array([pesos['Pesos']])"
   ]
  },
  {
   "cell_type": "code",
   "execution_count": 11,
   "metadata": {},
   "outputs": [
    {
     "name": "stdout",
     "output_type": "stream",
     "text": [
      "[[0.5 0.5]]\n"
     ]
    }
   ],
   "source": [
    "print(matrixpesos)"
   ]
  },
  {
   "cell_type": "code",
   "execution_count": 12,
   "metadata": {},
   "outputs": [
    {
     "name": "stdout",
     "output_type": "stream",
     "text": [
      "Retorno Pesos iguais\n",
      "0.0017463389172780617\n"
     ]
    }
   ],
   "source": [
    "retornoport=matrixpesos @ matrixav.T\n",
    "print(\"Retorno Pesos iguais\")\n",
    "print (retornoport[0][0])"
   ]
  },
  {
   "cell_type": "code",
   "execution_count": 13,
   "metadata": {},
   "outputs": [
    {
     "name": "stdout",
     "output_type": "stream",
     "text": [
      "          0\n",
      "0  0.000671\n"
     ]
    }
   ],
   "source": [
    "varport=(matrixpesos @ cov) @ matrixpesos.T\n",
    "print(varport)"
   ]
  },
  {
   "cell_type": "code",
   "execution_count": 14,
   "metadata": {},
   "outputs": [
    {
     "name": "stdout",
     "output_type": "stream",
     "text": [
      "Std Pesos iguais\n",
      "0.025904876160601005\n"
     ]
    }
   ],
   "source": [
    "stdport=math.sqrt((varport[0][0]))\n",
    "print(\"Std Pesos iguais\")\n",
    "print(stdport)"
   ]
  },
  {
   "cell_type": "code",
   "execution_count": 15,
   "metadata": {},
   "outputs": [
    {
     "name": "stdout",
     "output_type": "stream",
     "text": [
      "Sharpe Pesos iguais\n",
      "0.06741352116301898\n"
     ]
    }
   ],
   "source": [
    "print(\"Sharpe Pesos iguais\")\n",
    "print((retornoport[0][0]-Rf)/stdport)"
   ]
  },
  {
   "cell_type": "code",
   "execution_count": 16,
   "metadata": {},
   "outputs": [
    {
     "name": "stdout",
     "output_type": "stream",
     "text": [
      "[[0.93212267 0.06787733]]\n"
     ]
    }
   ],
   "source": [
    "#comeco segunda iteração\n",
    "matrixpesos=np.random.dirichlet(np.ones(len(Lista)),size=1)\n",
    "print(matrixpesos)"
   ]
  },
  {
   "cell_type": "code",
   "execution_count": null,
   "metadata": {
    "collapsed": true
   },
   "outputs": [],
   "source": []
  },
  {
   "cell_type": "code",
   "execution_count": 17,
   "metadata": {},
   "outputs": [
    {
     "name": "stdout",
     "output_type": "stream",
     "text": [
      "0.0010617593193178467\n"
     ]
    }
   ],
   "source": [
    "retornoport=matrixpesos @ matrixav.T\n",
    "print (retornoport[0][0])"
   ]
  },
  {
   "cell_type": "code",
   "execution_count": 18,
   "metadata": {},
   "outputs": [
    {
     "name": "stdout",
     "output_type": "stream",
     "text": [
      "0.03223471663154755\n"
     ]
    }
   ],
   "source": [
    "varport=(matrixpesos @ cov) @ matrixpesos.T\n",
    "stdport=math.sqrt((varport[0][0]))\n",
    "print(stdport)"
   ]
  },
  {
   "cell_type": "code",
   "execution_count": 19,
   "metadata": {},
   "outputs": [
    {
     "name": "stdout",
     "output_type": "stream",
     "text": [
      "[[0.28575737 0.71424263]]\n"
     ]
    }
   ],
   "source": [
    "teste=np.random.dirichlet(np.ones(len(Lista)),size=1)\n",
    "print (teste)"
   ]
  },
  {
   "cell_type": "code",
   "execution_count": 20,
   "metadata": {},
   "outputs": [
    {
     "name": "stdout",
     "output_type": "stream",
     "text": [
      "1.0\n"
     ]
    }
   ],
   "source": [
    "print (np.sum(teste))"
   ]
  },
  {
   "cell_type": "code",
   "execution_count": 21,
   "metadata": {},
   "outputs": [
    {
     "data": {
      "text/html": [
       "<div>\n",
       "<style scoped>\n",
       "    .dataframe tbody tr th:only-of-type {\n",
       "        vertical-align: middle;\n",
       "    }\n",
       "\n",
       "    .dataframe tbody tr th {\n",
       "        vertical-align: top;\n",
       "    }\n",
       "\n",
       "    .dataframe thead th {\n",
       "        text-align: right;\n",
       "    }\n",
       "</style>\n",
       "<table border=\"1\" class=\"dataframe\">\n",
       "  <thead>\n",
       "    <tr style=\"text-align: right;\">\n",
       "      <th></th>\n",
       "      <th>Corr Port</th>\n",
       "      <th>Retorno anualizado</th>\n",
       "      <th>Vol anualizada</th>\n",
       "      <th>Retorno Período:</th>\n",
       "      <th>Std</th>\n",
       "      <th>Sharpe</th>\n",
       "      <th>PETR4.SA</th>\n",
       "      <th>WEGE3.SA</th>\n",
       "    </tr>\n",
       "  </thead>\n",
       "  <tbody>\n",
       "    <tr>\n",
       "      <th>0</th>\n",
       "      <td>0.903718</td>\n",
       "      <td>0.822534</td>\n",
       "      <td>0.413663</td>\n",
       "      <td>0.002385</td>\n",
       "      <td>0.026058</td>\n",
       "      <td>0.091514</td>\n",
       "      <td>0.097055</td>\n",
       "      <td>0.902945</td>\n",
       "    </tr>\n",
       "    <tr>\n",
       "      <th>1</th>\n",
       "      <td>0.732620</td>\n",
       "      <td>0.603433</td>\n",
       "      <td>0.403272</td>\n",
       "      <td>0.001875</td>\n",
       "      <td>0.025404</td>\n",
       "      <td>0.073822</td>\n",
       "      <td>0.418562</td>\n",
       "      <td>0.581438</td>\n",
       "    </tr>\n",
       "    <tr>\n",
       "      <th>2</th>\n",
       "      <td>0.755150</td>\n",
       "      <td>0.453583</td>\n",
       "      <td>0.439181</td>\n",
       "      <td>0.001485</td>\n",
       "      <td>0.027666</td>\n",
       "      <td>0.053689</td>\n",
       "      <td>0.664739</td>\n",
       "      <td>0.335261</td>\n",
       "    </tr>\n",
       "    <tr>\n",
       "      <th>3</th>\n",
       "      <td>0.768819</td>\n",
       "      <td>0.680292</td>\n",
       "      <td>0.399283</td>\n",
       "      <td>0.002062</td>\n",
       "      <td>0.025152</td>\n",
       "      <td>0.081961</td>\n",
       "      <td>0.301052</td>\n",
       "      <td>0.698948</td>\n",
       "    </tr>\n",
       "    <tr>\n",
       "      <th>4</th>\n",
       "      <td>0.861235</td>\n",
       "      <td>0.349170</td>\n",
       "      <td>0.486982</td>\n",
       "      <td>0.001189</td>\n",
       "      <td>0.030677</td>\n",
       "      <td>0.038764</td>\n",
       "      <td>0.851706</td>\n",
       "      <td>0.148294</td>\n",
       "    </tr>\n",
       "  </tbody>\n",
       "</table>\n",
       "</div>"
      ],
      "text/plain": [
       "   Corr Port  Retorno anualizado  Vol anualizada  Retorno Período:        Std  \\\n",
       "0   0.903718            0.822534        0.413663           0.002385  0.026058   \n",
       "1   0.732620            0.603433        0.403272           0.001875  0.025404   \n",
       "2   0.755150            0.453583        0.439181           0.001485  0.027666   \n",
       "3   0.768819            0.680292        0.399283           0.002062  0.025152   \n",
       "4   0.861235            0.349170        0.486982           0.001189  0.030677   \n",
       "\n",
       "     Sharpe  PETR4.SA  WEGE3.SA  \n",
       "0  0.091514  0.097055  0.902945  \n",
       "1  0.073822  0.418562  0.581438  \n",
       "2  0.053689  0.664739  0.335261  \n",
       "3  0.081961  0.301052  0.698948  \n",
       "4  0.038764  0.851706  0.148294  "
      ]
     },
     "execution_count": 21,
     "metadata": {},
     "output_type": "execute_result"
    }
   ],
   "source": [
    "vol=0\n",
    "dfgraph=pd.DataFrame()\n",
    "dfgraph['Corr Port']=''\n",
    "dfgraph['Retorno anualizado']=''\n",
    "dfgraph['Vol anualizada']=''\n",
    "dfgraph['Retorno Período: '+dados]=''\n",
    "dfgraph['Std']=''\n",
    "dfgraph['Sharpe']=''\n",
    "for i in Lista:\n",
    "    dfgraph[i]=\"\"\n",
    "dfgraph.head()\n",
    "corrport=0\n",
    "j=0\n",
    "n=1000\n",
    "while j<len(Lista)*n:\n",
    "    matrixpesos=np.random.dirichlet(np.ones(len(Lista)),size=1)\n",
    "    retornoport=matrixpesos @ matrixav.T\n",
    "    varport=(matrixpesos @ cov) @ matrixpesos.T\n",
    "    corrport=(matrixpesos @ corr) @ matrixpesos.T\n",
    "    stdport=math.sqrt((varport[0][0]))\n",
    "    #sharpe=(retornoport-Rf)/stdport\n",
    "    vol=stdport*math.sqrt(252)\n",
    "    retornoanualizado=((1+retornoport)**(252)-1)\n",
    "    if dados=='M':\n",
    "        retornoanualizado=((1+retornoport)**(12)-1)\n",
    "        vol=stdport*math.sqrt(12)\n",
    "    elif dados=='W':\n",
    "        retornoanualizado=((1+retornoport)**(52)-1)\n",
    "        vol=stdport*math.sqrt(52)\n",
    "                           \n",
    "    sharpe=(retornoport-Rf)/stdport\n",
    "    to_append=[corrport[0][0], retornoanualizado[0][0],vol,retornoport[0][0], stdport, sharpe[0][0]]\n",
    "    #print(matrixpesos[0])\n",
    "    #print(to_append)\n",
    "    to_append=to_append + list(matrixpesos[0])\n",
    "    #print(to_append)\n",
    "    a_series=pd.Series(to_append, index=dfgraph.columns)\n",
    "    dfgraph=dfgraph.append(a_series,ignore_index=True)\n",
    "    j=j+1\n",
    "    #print(j)\n",
    "dfgraph.head()    "
   ]
  },
  {
   "cell_type": "code",
   "execution_count": 22,
   "metadata": {},
   "outputs": [
    {
     "name": "stdout",
     "output_type": "stream",
     "text": [
      "Mínimo Desvio\n"
     ]
    }
   ],
   "source": [
    "min_std=dfgraph.sort_values(by='Std', ascending=True)\n",
    "print('Mínimo Desvio')\n",
    "\n",
    "\n"
   ]
  },
  {
   "cell_type": "code",
   "execution_count": 23,
   "metadata": {
    "collapsed": true
   },
   "outputs": [],
   "source": [
    "\n",
    "std_min=min_std['Std'].iloc[0]\n",
    "ret_min=min_std['Retorno Período: '+dados].iloc[0]"
   ]
  },
  {
   "cell_type": "code",
   "execution_count": 24,
   "metadata": {},
   "outputs": [
    {
     "data": {
      "text/html": [
       "<div>\n",
       "<style scoped>\n",
       "    .dataframe tbody tr th:only-of-type {\n",
       "        vertical-align: middle;\n",
       "    }\n",
       "\n",
       "    .dataframe tbody tr th {\n",
       "        vertical-align: top;\n",
       "    }\n",
       "\n",
       "    .dataframe thead th {\n",
       "        text-align: right;\n",
       "    }\n",
       "</style>\n",
       "<table border=\"1\" class=\"dataframe\">\n",
       "  <thead>\n",
       "    <tr style=\"text-align: right;\">\n",
       "      <th></th>\n",
       "      <th>Corr Port</th>\n",
       "      <th>Retorno anualizado</th>\n",
       "      <th>Vol anualizada</th>\n",
       "      <th>Retorno Período:</th>\n",
       "      <th>Std</th>\n",
       "      <th>Sharpe</th>\n",
       "      <th>PETR4.SA</th>\n",
       "      <th>WEGE3.SA</th>\n",
       "    </tr>\n",
       "  </thead>\n",
       "  <tbody>\n",
       "    <tr>\n",
       "      <th>1733</th>\n",
       "      <td>0.765634</td>\n",
       "      <td>0.675330</td>\n",
       "      <td>0.399267</td>\n",
       "      <td>0.002050</td>\n",
       "      <td>0.025151</td>\n",
       "      <td>0.081497</td>\n",
       "      <td>0.308475</td>\n",
       "      <td>0.691525</td>\n",
       "    </tr>\n",
       "    <tr>\n",
       "      <th>1147</th>\n",
       "      <td>0.765620</td>\n",
       "      <td>0.675308</td>\n",
       "      <td>0.399267</td>\n",
       "      <td>0.002050</td>\n",
       "      <td>0.025151</td>\n",
       "      <td>0.081494</td>\n",
       "      <td>0.308508</td>\n",
       "      <td>0.691492</td>\n",
       "    </tr>\n",
       "    <tr>\n",
       "      <th>1212</th>\n",
       "      <td>0.766309</td>\n",
       "      <td>0.676396</td>\n",
       "      <td>0.399268</td>\n",
       "      <td>0.002052</td>\n",
       "      <td>0.025151</td>\n",
       "      <td>0.081597</td>\n",
       "      <td>0.306879</td>\n",
       "      <td>0.693121</td>\n",
       "    </tr>\n",
       "    <tr>\n",
       "      <th>996</th>\n",
       "      <td>0.766344</td>\n",
       "      <td>0.676450</td>\n",
       "      <td>0.399268</td>\n",
       "      <td>0.002052</td>\n",
       "      <td>0.025151</td>\n",
       "      <td>0.081602</td>\n",
       "      <td>0.306797</td>\n",
       "      <td>0.693203</td>\n",
       "    </tr>\n",
       "    <tr>\n",
       "      <th>301</th>\n",
       "      <td>0.766374</td>\n",
       "      <td>0.676498</td>\n",
       "      <td>0.399268</td>\n",
       "      <td>0.002053</td>\n",
       "      <td>0.025151</td>\n",
       "      <td>0.081607</td>\n",
       "      <td>0.306726</td>\n",
       "      <td>0.693274</td>\n",
       "    </tr>\n",
       "  </tbody>\n",
       "</table>\n",
       "</div>"
      ],
      "text/plain": [
       "      Corr Port  Retorno anualizado  Vol anualizada  Retorno Período:   \\\n",
       "1733   0.765634            0.675330        0.399267           0.002050   \n",
       "1147   0.765620            0.675308        0.399267           0.002050   \n",
       "1212   0.766309            0.676396        0.399268           0.002052   \n",
       "996    0.766344            0.676450        0.399268           0.002052   \n",
       "301    0.766374            0.676498        0.399268           0.002053   \n",
       "\n",
       "           Std    Sharpe  PETR4.SA  WEGE3.SA  \n",
       "1733  0.025151  0.081497  0.308475  0.691525  \n",
       "1147  0.025151  0.081494  0.308508  0.691492  \n",
       "1212  0.025151  0.081597  0.306879  0.693121  \n",
       "996   0.025151  0.081602  0.306797  0.693203  \n",
       "301   0.025151  0.081607  0.306726  0.693274  "
      ]
     },
     "execution_count": 24,
     "metadata": {},
     "output_type": "execute_result"
    }
   ],
   "source": [
    "min_std.head()"
   ]
  },
  {
   "cell_type": "code",
   "execution_count": 25,
   "metadata": {},
   "outputs": [
    {
     "name": "stdout",
     "output_type": "stream",
     "text": [
      "Máximo Retorno\n"
     ]
    },
    {
     "data": {
      "text/html": [
       "<div>\n",
       "<style scoped>\n",
       "    .dataframe tbody tr th:only-of-type {\n",
       "        vertical-align: middle;\n",
       "    }\n",
       "\n",
       "    .dataframe tbody tr th {\n",
       "        vertical-align: top;\n",
       "    }\n",
       "\n",
       "    .dataframe thead th {\n",
       "        text-align: right;\n",
       "    }\n",
       "</style>\n",
       "<table border=\"1\" class=\"dataframe\">\n",
       "  <thead>\n",
       "    <tr style=\"text-align: right;\">\n",
       "      <th></th>\n",
       "      <th>Corr Port</th>\n",
       "      <th>Retorno anualizado</th>\n",
       "      <th>Vol anualizada</th>\n",
       "      <th>Retorno Período:</th>\n",
       "      <th>Std</th>\n",
       "      <th>Sharpe</th>\n",
       "      <th>PETR4.SA</th>\n",
       "      <th>WEGE3.SA</th>\n",
       "    </tr>\n",
       "  </thead>\n",
       "  <tbody>\n",
       "    <tr>\n",
       "      <th>1890</th>\n",
       "      <td>0.999990</td>\n",
       "      <td>0.894350</td>\n",
       "      <td>0.429372</td>\n",
       "      <td>0.002538</td>\n",
       "      <td>0.027048</td>\n",
       "      <td>0.093850</td>\n",
       "      <td>0.000009</td>\n",
       "      <td>0.999991</td>\n",
       "    </tr>\n",
       "    <tr>\n",
       "      <th>1161</th>\n",
       "      <td>0.997226</td>\n",
       "      <td>0.892448</td>\n",
       "      <td>0.428898</td>\n",
       "      <td>0.002534</td>\n",
       "      <td>0.027018</td>\n",
       "      <td>0.093806</td>\n",
       "      <td>0.002531</td>\n",
       "      <td>0.997469</td>\n",
       "    </tr>\n",
       "    <tr>\n",
       "      <th>1539</th>\n",
       "      <td>0.995967</td>\n",
       "      <td>0.891579</td>\n",
       "      <td>0.428682</td>\n",
       "      <td>0.002533</td>\n",
       "      <td>0.027004</td>\n",
       "      <td>0.093785</td>\n",
       "      <td>0.003685</td>\n",
       "      <td>0.996315</td>\n",
       "    </tr>\n",
       "    <tr>\n",
       "      <th>1394</th>\n",
       "      <td>0.994976</td>\n",
       "      <td>0.890894</td>\n",
       "      <td>0.428513</td>\n",
       "      <td>0.002531</td>\n",
       "      <td>0.026994</td>\n",
       "      <td>0.093769</td>\n",
       "      <td>0.004594</td>\n",
       "      <td>0.995406</td>\n",
       "    </tr>\n",
       "    <tr>\n",
       "      <th>1375</th>\n",
       "      <td>0.994934</td>\n",
       "      <td>0.890865</td>\n",
       "      <td>0.428506</td>\n",
       "      <td>0.002531</td>\n",
       "      <td>0.026993</td>\n",
       "      <td>0.093768</td>\n",
       "      <td>0.004633</td>\n",
       "      <td>0.995367</td>\n",
       "    </tr>\n",
       "  </tbody>\n",
       "</table>\n",
       "</div>"
      ],
      "text/plain": [
       "      Corr Port  Retorno anualizado  Vol anualizada  Retorno Período:   \\\n",
       "1890   0.999990            0.894350        0.429372           0.002538   \n",
       "1161   0.997226            0.892448        0.428898           0.002534   \n",
       "1539   0.995967            0.891579        0.428682           0.002533   \n",
       "1394   0.994976            0.890894        0.428513           0.002531   \n",
       "1375   0.994934            0.890865        0.428506           0.002531   \n",
       "\n",
       "           Std    Sharpe  PETR4.SA  WEGE3.SA  \n",
       "1890  0.027048  0.093850  0.000009  0.999991  \n",
       "1161  0.027018  0.093806  0.002531  0.997469  \n",
       "1539  0.027004  0.093785  0.003685  0.996315  \n",
       "1394  0.026994  0.093769  0.004594  0.995406  \n",
       "1375  0.026993  0.093768  0.004633  0.995367  "
      ]
     },
     "execution_count": 25,
     "metadata": {},
     "output_type": "execute_result"
    }
   ],
   "source": [
    "max_return=dfgraph.sort_values(by='Retorno Período: '+dados, ascending=False)\n",
    "print('Máximo Retorno')\n",
    "max_return.head()"
   ]
  },
  {
   "cell_type": "code",
   "execution_count": 26,
   "metadata": {},
   "outputs": [
    {
     "name": "stdout",
     "output_type": "stream",
     "text": [
      "Máximo Sharpe\n"
     ]
    },
    {
     "data": {
      "text/html": [
       "<div>\n",
       "<style scoped>\n",
       "    .dataframe tbody tr th:only-of-type {\n",
       "        vertical-align: middle;\n",
       "    }\n",
       "\n",
       "    .dataframe tbody tr th {\n",
       "        vertical-align: top;\n",
       "    }\n",
       "\n",
       "    .dataframe thead th {\n",
       "        text-align: right;\n",
       "    }\n",
       "</style>\n",
       "<table border=\"1\" class=\"dataframe\">\n",
       "  <thead>\n",
       "    <tr style=\"text-align: right;\">\n",
       "      <th></th>\n",
       "      <th>Corr Port</th>\n",
       "      <th>Retorno anualizado</th>\n",
       "      <th>Vol anualizada</th>\n",
       "      <th>Retorno Período:</th>\n",
       "      <th>Std</th>\n",
       "      <th>Sharpe</th>\n",
       "      <th>PETR4.SA</th>\n",
       "      <th>WEGE3.SA</th>\n",
       "    </tr>\n",
       "  </thead>\n",
       "  <tbody>\n",
       "    <tr>\n",
       "      <th>1890</th>\n",
       "      <td>0.999990</td>\n",
       "      <td>0.894350</td>\n",
       "      <td>0.429372</td>\n",
       "      <td>0.002538</td>\n",
       "      <td>0.027048</td>\n",
       "      <td>0.093850</td>\n",
       "      <td>0.000009</td>\n",
       "      <td>0.999991</td>\n",
       "    </tr>\n",
       "    <tr>\n",
       "      <th>1161</th>\n",
       "      <td>0.997226</td>\n",
       "      <td>0.892448</td>\n",
       "      <td>0.428898</td>\n",
       "      <td>0.002534</td>\n",
       "      <td>0.027018</td>\n",
       "      <td>0.093806</td>\n",
       "      <td>0.002531</td>\n",
       "      <td>0.997469</td>\n",
       "    </tr>\n",
       "    <tr>\n",
       "      <th>1539</th>\n",
       "      <td>0.995967</td>\n",
       "      <td>0.891579</td>\n",
       "      <td>0.428682</td>\n",
       "      <td>0.002533</td>\n",
       "      <td>0.027004</td>\n",
       "      <td>0.093785</td>\n",
       "      <td>0.003685</td>\n",
       "      <td>0.996315</td>\n",
       "    </tr>\n",
       "    <tr>\n",
       "      <th>1394</th>\n",
       "      <td>0.994976</td>\n",
       "      <td>0.890894</td>\n",
       "      <td>0.428513</td>\n",
       "      <td>0.002531</td>\n",
       "      <td>0.026994</td>\n",
       "      <td>0.093769</td>\n",
       "      <td>0.004594</td>\n",
       "      <td>0.995406</td>\n",
       "    </tr>\n",
       "    <tr>\n",
       "      <th>1375</th>\n",
       "      <td>0.994934</td>\n",
       "      <td>0.890865</td>\n",
       "      <td>0.428506</td>\n",
       "      <td>0.002531</td>\n",
       "      <td>0.026993</td>\n",
       "      <td>0.093768</td>\n",
       "      <td>0.004633</td>\n",
       "      <td>0.995367</td>\n",
       "    </tr>\n",
       "  </tbody>\n",
       "</table>\n",
       "</div>"
      ],
      "text/plain": [
       "      Corr Port  Retorno anualizado  Vol anualizada  Retorno Período:   \\\n",
       "1890   0.999990            0.894350        0.429372           0.002538   \n",
       "1161   0.997226            0.892448        0.428898           0.002534   \n",
       "1539   0.995967            0.891579        0.428682           0.002533   \n",
       "1394   0.994976            0.890894        0.428513           0.002531   \n",
       "1375   0.994934            0.890865        0.428506           0.002531   \n",
       "\n",
       "           Std    Sharpe  PETR4.SA  WEGE3.SA  \n",
       "1890  0.027048  0.093850  0.000009  0.999991  \n",
       "1161  0.027018  0.093806  0.002531  0.997469  \n",
       "1539  0.027004  0.093785  0.003685  0.996315  \n",
       "1394  0.026994  0.093769  0.004594  0.995406  \n",
       "1375  0.026993  0.093768  0.004633  0.995367  "
      ]
     },
     "execution_count": 26,
     "metadata": {},
     "output_type": "execute_result"
    }
   ],
   "source": [
    "max_return=dfgraph.sort_values(by='Sharpe', ascending=False)\n",
    "print('Máximo Sharpe')\n",
    "max_return.head()"
   ]
  },
  {
   "cell_type": "code",
   "execution_count": 27,
   "metadata": {
    "collapsed": true
   },
   "outputs": [],
   "source": [
    "#dfgraph.iplot(theme=\"white\",x=\"Std\",y='Retorno Período: '+dados,kind='scatter', mode='markers',title=\"Estudo Markowitz\")"
   ]
  },
  {
   "cell_type": "code",
   "execution_count": 28,
   "metadata": {},
   "outputs": [
    {
     "name": "stdout",
     "output_type": "stream",
     "text": [
      "Média Std\n",
      "0.027374501264058014\n"
     ]
    }
   ],
   "source": [
    "#meio=(dfgraph['Std'].min()+dfgraph['Std'].max())/2\n",
    "meio=dfgraph['Std'].mean()\n",
    "print(\"Média Std\")\n",
    "print(meio)\n",
    "escolha=dfgraph.iloc[(dfgraph['Std']-meio).abs().argsort()[:5]]\n",
    "escolha=escolha.sort_values(by='Retorno anualizado', ascending=False)"
   ]
  },
  {
   "cell_type": "code",
   "execution_count": 29,
   "metadata": {},
   "outputs": [
    {
     "data": {
      "text/html": [
       "<div>\n",
       "<style scoped>\n",
       "    .dataframe tbody tr th:only-of-type {\n",
       "        vertical-align: middle;\n",
       "    }\n",
       "\n",
       "    .dataframe tbody tr th {\n",
       "        vertical-align: top;\n",
       "    }\n",
       "\n",
       "    .dataframe thead th {\n",
       "        text-align: right;\n",
       "    }\n",
       "</style>\n",
       "<table border=\"1\" class=\"dataframe\">\n",
       "  <thead>\n",
       "    <tr style=\"text-align: right;\">\n",
       "      <th></th>\n",
       "      <th>Corr Port</th>\n",
       "      <th>Retorno anualizado</th>\n",
       "      <th>Vol anualizada</th>\n",
       "      <th>Retorno Período:</th>\n",
       "      <th>Std</th>\n",
       "      <th>Sharpe</th>\n",
       "      <th>PETR4.SA</th>\n",
       "      <th>WEGE3.SA</th>\n",
       "    </tr>\n",
       "  </thead>\n",
       "  <tbody>\n",
       "    <tr>\n",
       "      <th>675</th>\n",
       "      <td>0.747409</td>\n",
       "      <td>0.466965</td>\n",
       "      <td>0.434402</td>\n",
       "      <td>0.001522</td>\n",
       "      <td>0.027365</td>\n",
       "      <td>0.055611</td>\n",
       "      <td>0.641750</td>\n",
       "      <td>0.358250</td>\n",
       "    </tr>\n",
       "    <tr>\n",
       "      <th>833</th>\n",
       "      <td>0.747517</td>\n",
       "      <td>0.466762</td>\n",
       "      <td>0.434472</td>\n",
       "      <td>0.001521</td>\n",
       "      <td>0.027369</td>\n",
       "      <td>0.055582</td>\n",
       "      <td>0.642097</td>\n",
       "      <td>0.357903</td>\n",
       "    </tr>\n",
       "    <tr>\n",
       "      <th>495</th>\n",
       "      <td>0.747687</td>\n",
       "      <td>0.466446</td>\n",
       "      <td>0.434582</td>\n",
       "      <td>0.001520</td>\n",
       "      <td>0.027376</td>\n",
       "      <td>0.055536</td>\n",
       "      <td>0.642638</td>\n",
       "      <td>0.357362</td>\n",
       "    </tr>\n",
       "    <tr>\n",
       "      <th>1829</th>\n",
       "      <td>0.747884</td>\n",
       "      <td>0.466079</td>\n",
       "      <td>0.434709</td>\n",
       "      <td>0.001519</td>\n",
       "      <td>0.027384</td>\n",
       "      <td>0.055484</td>\n",
       "      <td>0.643266</td>\n",
       "      <td>0.356734</td>\n",
       "    </tr>\n",
       "    <tr>\n",
       "      <th>376</th>\n",
       "      <td>0.747910</td>\n",
       "      <td>0.466031</td>\n",
       "      <td>0.434726</td>\n",
       "      <td>0.001519</td>\n",
       "      <td>0.027385</td>\n",
       "      <td>0.055477</td>\n",
       "      <td>0.643348</td>\n",
       "      <td>0.356652</td>\n",
       "    </tr>\n",
       "  </tbody>\n",
       "</table>\n",
       "</div>"
      ],
      "text/plain": [
       "      Corr Port  Retorno anualizado  Vol anualizada  Retorno Período:   \\\n",
       "675    0.747409            0.466965        0.434402           0.001522   \n",
       "833    0.747517            0.466762        0.434472           0.001521   \n",
       "495    0.747687            0.466446        0.434582           0.001520   \n",
       "1829   0.747884            0.466079        0.434709           0.001519   \n",
       "376    0.747910            0.466031        0.434726           0.001519   \n",
       "\n",
       "           Std    Sharpe  PETR4.SA  WEGE3.SA  \n",
       "675   0.027365  0.055611  0.641750  0.358250  \n",
       "833   0.027369  0.055582  0.642097  0.357903  \n",
       "495   0.027376  0.055536  0.642638  0.357362  \n",
       "1829  0.027384  0.055484  0.643266  0.356734  \n",
       "376   0.027385  0.055477  0.643348  0.356652  "
      ]
     },
     "execution_count": 29,
     "metadata": {},
     "output_type": "execute_result"
    }
   ],
   "source": [
    "escolha.head()"
   ]
  },
  {
   "cell_type": "code",
   "execution_count": 30,
   "metadata": {},
   "outputs": [
    {
     "data": {
      "text/plain": [
       "Index(['PETR4.SA', 'WEGE3.SA'], dtype='object')"
      ]
     },
     "execution_count": 30,
     "metadata": {},
     "output_type": "execute_result"
    }
   ],
   "source": [
    "dfretornos.columns"
   ]
  },
  {
   "cell_type": "code",
   "execution_count": 31,
   "metadata": {},
   "outputs": [
    {
     "data": {
      "image/png": "[encoded data removed]",
      "text/plain": [
       "<Figure size 432x288 with 1 Axes>"
      ]
     },
     "metadata": {},
     "output_type": "display_data"
    }
   ],
   "source": [
    "dfgraph.plot(x ='Std', y='Retorno Período: '+dados, kind = 'scatter',label='Markowitz')\n",
    "plt.show()"
   ]
  },
  {
   "cell_type": "code",
   "execution_count": 32,
   "metadata": {},
   "outputs": [
    {
     "data": {
      "text/plain": [
       "0.3993605940903461"
      ]
     },
     "execution_count": 32,
     "metadata": {},
     "output_type": "execute_result"
    }
   ],
   "source": [
    "vol"
   ]
  },
  {
   "cell_type": "code",
   "execution_count": 33,
   "metadata": {},
   "outputs": [
    {
     "name": "stdout",
     "output_type": "stream",
     "text": [
      "Mínima Correlacao\n"
     ]
    },
    {
     "data": {
      "text/html": [
       "<div>\n",
       "<style scoped>\n",
       "    .dataframe tbody tr th:only-of-type {\n",
       "        vertical-align: middle;\n",
       "    }\n",
       "\n",
       "    .dataframe tbody tr th {\n",
       "        vertical-align: top;\n",
       "    }\n",
       "\n",
       "    .dataframe thead th {\n",
       "        text-align: right;\n",
       "    }\n",
       "</style>\n",
       "<table border=\"1\" class=\"dataframe\">\n",
       "  <thead>\n",
       "    <tr style=\"text-align: right;\">\n",
       "      <th></th>\n",
       "      <th>Corr Port</th>\n",
       "      <th>Retorno anualizado</th>\n",
       "      <th>Vol anualizada</th>\n",
       "      <th>Retorno Período:</th>\n",
       "      <th>Std</th>\n",
       "      <th>Sharpe</th>\n",
       "      <th>PETR4.SA</th>\n",
       "      <th>WEGE3.SA</th>\n",
       "    </tr>\n",
       "  </thead>\n",
       "  <tbody>\n",
       "    <tr>\n",
       "      <th>561</th>\n",
       "      <td>0.725333</td>\n",
       "      <td>0.552322</td>\n",
       "      <td>0.411209</td>\n",
       "      <td>0.001747</td>\n",
       "      <td>0.025904</td>\n",
       "      <td>0.067425</td>\n",
       "      <td>0.499853</td>\n",
       "      <td>0.500147</td>\n",
       "    </tr>\n",
       "    <tr>\n",
       "      <th>1771</th>\n",
       "      <td>0.725333</td>\n",
       "      <td>0.552332</td>\n",
       "      <td>0.411207</td>\n",
       "      <td>0.001747</td>\n",
       "      <td>0.025904</td>\n",
       "      <td>0.067427</td>\n",
       "      <td>0.499838</td>\n",
       "      <td>0.500162</td>\n",
       "    </tr>\n",
       "    <tr>\n",
       "      <th>1777</th>\n",
       "      <td>0.725334</td>\n",
       "      <td>0.552338</td>\n",
       "      <td>0.411206</td>\n",
       "      <td>0.001747</td>\n",
       "      <td>0.025904</td>\n",
       "      <td>0.067428</td>\n",
       "      <td>0.499827</td>\n",
       "      <td>0.500173</td>\n",
       "    </tr>\n",
       "    <tr>\n",
       "      <th>480</th>\n",
       "      <td>0.725334</td>\n",
       "      <td>0.552493</td>\n",
       "      <td>0.411175</td>\n",
       "      <td>0.001747</td>\n",
       "      <td>0.025902</td>\n",
       "      <td>0.067448</td>\n",
       "      <td>0.499577</td>\n",
       "      <td>0.500423</td>\n",
       "    </tr>\n",
       "    <tr>\n",
       "      <th>631</th>\n",
       "      <td>0.725334</td>\n",
       "      <td>0.551796</td>\n",
       "      <td>0.411314</td>\n",
       "      <td>0.001745</td>\n",
       "      <td>0.025910</td>\n",
       "      <td>0.067356</td>\n",
       "      <td>0.500704</td>\n",
       "      <td>0.499296</td>\n",
       "    </tr>\n",
       "  </tbody>\n",
       "</table>\n",
       "</div>"
      ],
      "text/plain": [
       "      Corr Port  Retorno anualizado  Vol anualizada  Retorno Período:   \\\n",
       "561    0.725333            0.552322        0.411209           0.001747   \n",
       "1771   0.725333            0.552332        0.411207           0.001747   \n",
       "1777   0.725334            0.552338        0.411206           0.001747   \n",
       "480    0.725334            0.552493        0.411175           0.001747   \n",
       "631    0.725334            0.551796        0.411314           0.001745   \n",
       "\n",
       "           Std    Sharpe  PETR4.SA  WEGE3.SA  \n",
       "561   0.025904  0.067425  0.499853  0.500147  \n",
       "1771  0.025904  0.067427  0.499838  0.500162  \n",
       "1777  0.025904  0.067428  0.499827  0.500173  \n",
       "480   0.025902  0.067448  0.499577  0.500423  \n",
       "631   0.025910  0.067356  0.500704  0.499296  "
      ]
     },
     "execution_count": 33,
     "metadata": {},
     "output_type": "execute_result"
    }
   ],
   "source": [
    "min_corr=dfgraph.sort_values(by='Corr Port', ascending=True)\n",
    "print('Mínima Correlacao')\n",
    "min_corr.head()"
   ]
  },
  {
   "cell_type": "code",
   "execution_count": 34,
   "metadata": {},
   "outputs": [
    {
     "data": {
      "text/plain": [
       "array([[0.00207719]])"
      ]
     },
     "execution_count": 34,
     "metadata": {},
     "output_type": "execute_result"
    }
   ],
   "source": [
    "retornoport"
   ]
  },
  {
   "cell_type": "code",
   "execution_count": 35,
   "metadata": {
    "collapsed": true
   },
   "outputs": [],
   "source": [
    "ibov_acumulado=(1+bovespa['^BVSP']).cumprod()\n",
    "ibov_acumulado.iloc[0]=1\n"
   ]
  },
  {
   "cell_type": "code",
   "execution_count": 53,
   "metadata": {},
   "outputs": [
    {
     "data": {
      "text/plain": [
       "Date\n",
       "2018-07-30    1.000000\n",
       "2018-07-31    0.986845\n",
       "2018-08-01    0.987867\n",
       "2018-08-02    0.992040\n",
       "2018-08-03    1.014438\n",
       "                ...   \n",
       "2021-03-10    1.404853\n",
       "2021-03-11    1.432358\n",
       "2021-03-12    1.422094\n",
       "2021-03-15    1.430702\n",
       "2021-03-16    1.421104\n",
       "Name: ^BVSP, Length: 645, dtype: float64"
      ]
     },
     "execution_count": 53,
     "metadata": {},
     "output_type": "execute_result"
    }
   ],
   "source": [
    "ibov_acumulado"
   ]
  },
  {
   "cell_type": "code",
   "execution_count": 37,
   "metadata": {
    "collapsed": true
   },
   "outputs": [],
   "source": [
    "del min_std['Corr Port']\n",
    "del min_std['Retorno anualizado']\n",
    "del min_std['Vol anualizada']\n",
    "del min_std['Retorno Período: '+dados]\n",
    "del min_std['Std']\n",
    "del min_std['Sharpe']"
   ]
  },
  {
   "cell_type": "code",
   "execution_count": null,
   "metadata": {
    "collapsed": true
   },
   "outputs": [],
   "source": []
  },
  {
   "cell_type": "code",
   "execution_count": 38,
   "metadata": {
    "collapsed": true
   },
   "outputs": [],
   "source": [
    "pesos_min=pd.Series(min_std.iloc[0])"
   ]
  },
  {
   "cell_type": "code",
   "execution_count": 39,
   "metadata": {},
   "outputs": [
    {
     "data": {
      "text/plain": [
       "PETR4.SA    0.308475\n",
       "WEGE3.SA    0.691525\n",
       "Name: 1733, dtype: float64"
      ]
     },
     "execution_count": 39,
     "metadata": {},
     "output_type": "execute_result"
    }
   ],
   "source": [
    "pesos_min"
   ]
  },
  {
   "cell_type": "code",
   "execution_count": 40,
   "metadata": {
    "collapsed": true
   },
   "outputs": [],
   "source": [
    "retorno_min=dfretornos*pesos_min"
   ]
  },
  {
   "cell_type": "code",
   "execution_count": 41,
   "metadata": {
    "collapsed": true
   },
   "outputs": [],
   "source": [
    "#retorno_min"
   ]
  },
  {
   "cell_type": "code",
   "execution_count": 52,
   "metadata": {},
   "outputs": [
    {
     "data": {
      "text/html": [
       "<div>\n",
       "<style scoped>\n",
       "    .dataframe tbody tr th:only-of-type {\n",
       "        vertical-align: middle;\n",
       "    }\n",
       "\n",
       "    .dataframe tbody tr th {\n",
       "        vertical-align: top;\n",
       "    }\n",
       "\n",
       "    .dataframe thead th {\n",
       "        text-align: right;\n",
       "    }\n",
       "</style>\n",
       "<table border=\"1\" class=\"dataframe\">\n",
       "  <thead>\n",
       "    <tr style=\"text-align: right;\">\n",
       "      <th></th>\n",
       "      <th>PETR4.SA</th>\n",
       "      <th>WEGE3.SA</th>\n",
       "    </tr>\n",
       "    <tr>\n",
       "      <th>Date</th>\n",
       "      <th></th>\n",
       "      <th></th>\n",
       "    </tr>\n",
       "  </thead>\n",
       "  <tbody>\n",
       "    <tr>\n",
       "      <th>2018-07-30</th>\n",
       "      <td>NaN</td>\n",
       "      <td>NaN</td>\n",
       "    </tr>\n",
       "    <tr>\n",
       "      <th>2018-07-31</th>\n",
       "      <td>-0.008547</td>\n",
       "      <td>-0.004839</td>\n",
       "    </tr>\n",
       "    <tr>\n",
       "      <th>2018-08-01</th>\n",
       "      <td>0.014706</td>\n",
       "      <td>-0.010805</td>\n",
       "    </tr>\n",
       "    <tr>\n",
       "      <th>2018-08-02</th>\n",
       "      <td>0.019990</td>\n",
       "      <td>-0.019115</td>\n",
       "    </tr>\n",
       "    <tr>\n",
       "      <th>2018-08-03</th>\n",
       "      <td>0.034297</td>\n",
       "      <td>0.009465</td>\n",
       "    </tr>\n",
       "    <tr>\n",
       "      <th>...</th>\n",
       "      <td>...</td>\n",
       "      <td>...</td>\n",
       "    </tr>\n",
       "    <tr>\n",
       "      <th>2021-03-09</th>\n",
       "      <td>0.023223</td>\n",
       "      <td>0.033984</td>\n",
       "    </tr>\n",
       "    <tr>\n",
       "      <th>2021-03-10</th>\n",
       "      <td>0.034738</td>\n",
       "      <td>0.010909</td>\n",
       "    </tr>\n",
       "    <tr>\n",
       "      <th>2021-03-11</th>\n",
       "      <td>0.042525</td>\n",
       "      <td>-0.004981</td>\n",
       "    </tr>\n",
       "    <tr>\n",
       "      <th>2021-03-12</th>\n",
       "      <td>-0.005152</td>\n",
       "      <td>-0.010706</td>\n",
       "    </tr>\n",
       "    <tr>\n",
       "      <th>2021-03-16</th>\n",
       "      <td>0.009063</td>\n",
       "      <td>0.018131</td>\n",
       "    </tr>\n",
       "  </tbody>\n",
       "</table>\n",
       "<p>644 rows × 2 columns</p>\n",
       "</div>"
      ],
      "text/plain": [
       "            PETR4.SA  WEGE3.SA\n",
       "Date                          \n",
       "2018-07-30       NaN       NaN\n",
       "2018-07-31 -0.008547 -0.004839\n",
       "2018-08-01  0.014706 -0.010805\n",
       "2018-08-02  0.019990 -0.019115\n",
       "2018-08-03  0.034297  0.009465\n",
       "...              ...       ...\n",
       "2021-03-09  0.023223  0.033984\n",
       "2021-03-10  0.034738  0.010909\n",
       "2021-03-11  0.042525 -0.004981\n",
       "2021-03-12 -0.005152 -0.010706\n",
       "2021-03-16  0.009063  0.018131\n",
       "\n",
       "[644 rows x 2 columns]"
      ]
     },
     "execution_count": 52,
     "metadata": {},
     "output_type": "execute_result"
    }
   ],
   "source": [
    "dfretornos"
   ]
  },
  {
   "cell_type": "code",
   "execution_count": 43,
   "metadata": {
    "collapsed": true
   },
   "outputs": [],
   "source": [
    "#pesos_min"
   ]
  },
  {
   "cell_type": "code",
   "execution_count": 44,
   "metadata": {
    "collapsed": true
   },
   "outputs": [],
   "source": [
    "historico=retorno_min.sum(axis=1)\n",
    "#historico"
   ]
  },
  {
   "cell_type": "code",
   "execution_count": 45,
   "metadata": {
    "collapsed": true
   },
   "outputs": [],
   "source": [
    "historico_acumulado=(1+historico).cumprod()\n",
    "historico_acumulado.iloc[0]=1"
   ]
  },
  {
   "cell_type": "code",
   "execution_count": 46,
   "metadata": {
    "collapsed": true
   },
   "outputs": [],
   "source": [
    "#historico_acumulado"
   ]
  },
  {
   "cell_type": "code",
   "execution_count": 47,
   "metadata": {
    "collapsed": true
   },
   "outputs": [],
   "source": [
    "cdi=consulta_bc(12)\n",
    "cdi_acumulado=(1+cdi[cdi.index>=Periodo]/100).cumprod()\n",
    "cdi_acumulado.iloc[0]=1"
   ]
  },
  {
   "cell_type": "code",
   "execution_count": 48,
   "metadata": {},
   "outputs": [
    {
     "data": {
      "image/png": "[encoded data removed]",
      "text/plain": [
       "<Figure size 432x288 with 1 Axes>"
      ]
     },
     "metadata": {},
     "output_type": "display_data"
    }
   ],
   "source": [
    "fig, ax = plt.subplots()\n",
    "ax.plot(historico_acumulado,  '-b', label='Carteira')\n",
    "ax.plot(ibov_acumulado,  '--r', label='IBOV')\n",
    "ax.plot(cdi_acumulado,  '-g', label='CDI')\n",
    "leg = ax.legend();"
   ]
  },
  {
   "cell_type": "code",
   "execution_count": 49,
   "metadata": {},
   "outputs": [
    {
     "data": {
      "text/plain": [
       "PETR4.SA    0.308475\n",
       "WEGE3.SA    0.691525\n",
       "Name: 1733, dtype: float64"
      ]
     },
     "execution_count": 49,
     "metadata": {},
     "output_type": "execute_result"
    }
   ],
   "source": [
    "pesos_min"
   ]
  },
  {
   "cell_type": "code",
   "execution_count": 50,
   "metadata": {},
   "outputs": [
    {
     "data": {
      "text/plain": [
       "0.025151469037428"
      ]
     },
     "execution_count": 50,
     "metadata": {},
     "output_type": "execute_result"
    }
   ],
   "source": [
    "std_min"
   ]
  },
  {
   "cell_type": "code",
   "execution_count": 51,
   "metadata": {},
   "outputs": [
    {
     "data": {
      "text/plain": [
       "0.0020497572678044467"
      ]
     },
     "execution_count": 51,
     "metadata": {},
     "output_type": "execute_result"
    }
   ],
   "source": [
    "ret_min"
   ]
  },
  {
   "cell_type": "code",
   "execution_count": null,
   "metadata": {
    "collapsed": true
   },
   "outputs": [],
   "source": []
  }
 ],
 "metadata": {
  "kernelspec": {
   "display_name": "Python 3",
   "language": "python",
   "name": "python3"
  },
  "language_info": {
   "codemirror_mode": {
    "name": "ipython",
    "version": 3
   },
   "file_extension": ".py",
   "mimetype": "text/x-python",
   "name": "python",
   "nbconvert_exporter": "python",
   "pygments_lexer": "ipython3",
   "version": "3.6.1"
  }
 },
 "nbformat": 4,
 "nbformat_minor": 4
}
