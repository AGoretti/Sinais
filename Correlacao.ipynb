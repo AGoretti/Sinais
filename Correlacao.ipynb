{
 "cells": [
  {
   "cell_type": "code",
   "execution_count": 1,
   "metadata": {},
   "outputs": [
    {
     "name": "stderr",
     "output_type": "stream",
     "text": [
      "\n",
      "Bad key text.latex.unicode in file C:\\Users\\andre\\Anaconda35\\lib\\site-packages\\matplotlib\\mpl-data\\stylelib\\_classic_test.mplstyle, line 112 ('text.latex.unicode : False # use \"ucs\" and \"inputenc\" LaTeX packages for handling')\n",
      "You probably need to get an updated matplotlibrc file from\n",
      "https://github.com/matplotlib/matplotlib/blob/v3.3.4/matplotlibrc.template\n",
      "or from the matplotlib source distribution\n",
      "\n",
      "Bad key text.dvipnghack in file C:\\Users\\andre\\Anaconda35\\lib\\site-packages\\matplotlib\\mpl-data\\stylelib\\_classic_test.mplstyle, line 127 (\"text.dvipnghack : None      # some versions of dvipng don't handle alpha\")\n",
      "You probably need to get an updated matplotlibrc file from\n",
      "https://github.com/matplotlib/matplotlib/blob/v3.3.4/matplotlibrc.template\n",
      "or from the matplotlib source distribution\n",
      "\n",
      "Bad key savefig.frameon in file C:\\Users\\andre\\Anaconda35\\lib\\site-packages\\matplotlib\\mpl-data\\stylelib\\_classic_test.mplstyle, line 430 ('savefig.frameon : True')\n",
      "You probably need to get an updated matplotlibrc file from\n",
      "https://github.com/matplotlib/matplotlib/blob/v3.3.4/matplotlibrc.template\n",
      "or from the matplotlib source distribution\n",
      "\n",
      "Bad key nbagg.transparent in file C:\\Users\\andre\\Anaconda35\\lib\\site-packages\\matplotlib\\mpl-data\\stylelib\\_classic_test.mplstyle, line 433 ('nbagg.transparent: True')\n",
      "You probably need to get an updated matplotlibrc file from\n",
      "https://github.com/matplotlib/matplotlib/blob/v3.3.4/matplotlibrc.template\n",
      "or from the matplotlib source distribution\n",
      "\n",
      "Bad key pgf.debug in file C:\\Users\\andre\\Anaconda35\\lib\\site-packages\\matplotlib\\mpl-data\\stylelib\\_classic_test.mplstyle, line 453 ('pgf.debug           : False')\n",
      "You probably need to get an updated matplotlibrc file from\n",
      "https://github.com/matplotlib/matplotlib/blob/v3.3.4/matplotlibrc.template\n",
      "or from the matplotlib source distribution\n",
      "\n",
      "Bad key verbose.level in file C:\\Users\\andre\\Anaconda35\\lib\\site-packages\\matplotlib\\mpl-data\\stylelib\\_classic_test.mplstyle, line 484 ('verbose.level  : silent      # one of silent, helpful, debug, debug-annoying')\n",
      "You probably need to get an updated matplotlibrc file from\n",
      "https://github.com/matplotlib/matplotlib/blob/v3.3.4/matplotlibrc.template\n",
      "or from the matplotlib source distribution\n",
      "\n",
      "Bad key verbose.fileo in file C:\\Users\\andre\\Anaconda35\\lib\\site-packages\\matplotlib\\mpl-data\\stylelib\\_classic_test.mplstyle, line 485 ('verbose.fileo  : sys.stdout  # a log filename, sys.stdout or sys.stderr')\n",
      "You probably need to get an updated matplotlibrc file from\n",
      "https://github.com/matplotlib/matplotlib/blob/v3.3.4/matplotlibrc.template\n",
      "or from the matplotlib source distribution\n",
      "\n",
      "Bad key animation.mencoder_path in file C:\\Users\\andre\\Anaconda35\\lib\\site-packages\\matplotlib\\mpl-data\\stylelib\\_classic_test.mplstyle, line 516 ('animation.mencoder_path: mencoder')\n",
      "You probably need to get an updated matplotlibrc file from\n",
      "https://github.com/matplotlib/matplotlib/blob/v3.3.4/matplotlibrc.template\n",
      "or from the matplotlib source distribution\n",
      "\n",
      "Bad key animation.mencoder_args in file C:\\Users\\andre\\Anaconda35\\lib\\site-packages\\matplotlib\\mpl-data\\stylelib\\_classic_test.mplstyle, line 519 ('animation.mencoder_args:          # Additional arguments to pass to mencoder')\n",
      "You probably need to get an updated matplotlibrc file from\n",
      "https://github.com/matplotlib/matplotlib/blob/v3.3.4/matplotlibrc.template\n",
      "or from the matplotlib source distribution\n",
      "In C:\\Users\\andre\\Anaconda35\\lib\\site-packages\\matplotlib\\mpl-data\\stylelib\\_classic_test.mplstyle: \n",
      "The text.latex.preview rcparam was deprecated in Matplotlib 3.3 and will be removed two minor releases later.\n",
      "In C:\\Users\\andre\\Anaconda35\\lib\\site-packages\\matplotlib\\mpl-data\\stylelib\\_classic_test.mplstyle: \n",
      "The mathtext.fallback_to_cm rcparam was deprecated in Matplotlib 3.3 and will be removed two minor releases later.\n",
      "In C:\\Users\\andre\\Anaconda35\\lib\\site-packages\\matplotlib\\mpl-data\\stylelib\\_classic_test.mplstyle: Support for setting the 'mathtext.fallback_to_cm' rcParam is deprecated since 3.3 and will be removed two minor releases later; use 'mathtext.fallback : 'cm' instead.\n",
      "In C:\\Users\\andre\\Anaconda35\\lib\\site-packages\\matplotlib\\mpl-data\\stylelib\\_classic_test.mplstyle: \n",
      "The validate_bool_maybe_none function was deprecated in Matplotlib 3.3 and will be removed two minor releases later.\n",
      "In C:\\Users\\andre\\Anaconda35\\lib\\site-packages\\matplotlib\\mpl-data\\stylelib\\_classic_test.mplstyle: \n",
      "The savefig.jpeg_quality rcparam was deprecated in Matplotlib 3.3 and will be removed two minor releases later.\n",
      "In C:\\Users\\andre\\Anaconda35\\lib\\site-packages\\matplotlib\\mpl-data\\stylelib\\_classic_test.mplstyle: \n",
      "The keymap.all_axes rcparam was deprecated in Matplotlib 3.3 and will be removed two minor releases later.\n",
      "In C:\\Users\\andre\\Anaconda35\\lib\\site-packages\\matplotlib\\mpl-data\\stylelib\\_classic_test.mplstyle: \n",
      "The animation.avconv_path rcparam was deprecated in Matplotlib 3.3 and will be removed two minor releases later.\n",
      "In C:\\Users\\andre\\Anaconda35\\lib\\site-packages\\matplotlib\\mpl-data\\stylelib\\_classic_test.mplstyle: \n",
      "The animation.avconv_args rcparam was deprecated in Matplotlib 3.3 and will be removed two minor releases later.\n"
     ]
    },
    {
     "name": "stdout",
     "output_type": "stream",
     "text": [
      "0\n",
      "Correlação entre ativos\n",
      "    level_0   level_1         0\n",
      "1  PETR4.SA  WEGE3.SA  0.451026\n",
      "Média sem ponderação das correlações\n",
      "0.45102588793322546\n"
     ]
    }
   ],
   "source": [
    "################################################################################################\n",
    "#name:correlacao e markowitz.py\n",
    "#desc:correlacao e calculo carteira markowitz. Dados semanais ou mensais\n",
    "#Author:ThalesM\n",
    "#\n",
    "################################################################################################\n",
    "#import statsmodels.api as sm # import statsmodels \n",
    "import pandas as pd\n",
    "import numpy as np, numpy.random\n",
    "from pandas_datareader import data as wb\n",
    "import seaborn as sns\n",
    "import datetime\n",
    "from datetime import datetime\n",
    "import time\n",
    "import matplotlib.pyplot as plt\n",
    "import math\n",
    "#import cufflinks as cf\n",
    "#import plotly.offline\n",
    "#cf.go_offline()\n",
    "#cf.set_config_file(offline=False, world_readable=True)\n",
    "%matplotlib inline\n",
    "Lista=['PETR4.SA','WEGE3.SA']\n",
    "Periodo='2018-07-30'\n",
    "dados=''\n",
    "#Lista=['GUAR3.SA','ITUB4.SA','RAIL3.SA']\n",
    "Rf1=6/100\n",
    "Rf=0\n",
    "def consulta_bc(codigo_bcb):\n",
    "  url = 'http://api.bcb.gov.br/dados/serie/bcdata.sgs.{}/dados?formato=json'.format(codigo_bcb)\n",
    "  PG = pd.read_json(url)\n",
    "  df=pd.DataFrame(PG)  \n",
    "  df['data'] = pd.to_datetime(df['data'], dayfirst=True)\n",
    "  df.set_index('data', inplace=True)\n",
    "  return df\n",
    "\n",
    "def retornos(Acao):\n",
    "    fim='2015-07-01'\n",
    "    PG = wb.DataReader(Acao, data_source=\"yahoo\", start=Periodo)\n",
    "    df=pd.DataFrame(PG)\n",
    "    del df['High']\n",
    "    del df['Close']\n",
    "    del df['Low']\n",
    "    del df['Open']\n",
    "    del df['Volume']\n",
    "    if dados=='M' or dados=='W':\n",
    "        df=df.resample(dados).last()\n",
    "    #print(df)\n",
    "    chg=df['Adj Close'].pct_change()\n",
    "    chg.column=['Acao']\n",
    "    #print (type(chg))\n",
    "    return (chg)\n",
    "\n",
    "bovespa=pd.DataFrame()\n",
    "bovespa['^BVSP']=retornos('^BVSP')\n",
    "\n",
    "tamanhoLista=len(Lista)\n",
    "\n",
    "#cálculo Rf pro sharpe\n",
    "if dados=='M':\n",
    "    Rf=(1+Rf1)**(1/12)-1\n",
    "if dados=='W':\n",
    "    Rf=(1+Rf1)**(1/52)-1 \n",
    "print(Rf)\n",
    "dfretornos=pd.DataFrame()\n",
    "pesos=pd.DataFrame(Lista)\n",
    "for papel in Lista:\n",
    "    \n",
    "    dfretornos[papel]=retornos(papel)\n",
    "\n",
    "\n",
    "dataCorr = dfretornos.corr()\n",
    "for papel in Lista:\n",
    "    pesos['Pesos']=1/tamanhoLista\n",
    "pesos.rename(columns={0:'Ativos'}, inplace = True)\n",
    "pesos=pesos.set_index('Ativos')\n",
    "\n",
    "\n",
    "\n",
    "av=pd.Series(dfretornos.mean(axis=0))\n",
    "std=dfretornos.std(axis=0)\n",
    "cov=dfretornos.cov()\n",
    "matrixav=np.array(av)[np.newaxis]\n",
    "corr=dfretornos.corr()\n",
    "\n",
    "\n",
    "#print(dfretornos)\n",
    "#sns.heatmap(dataCorr, annot=True)\n",
    "#plt.show()\n",
    "\n",
    "\n",
    "dataCorr = dataCorr[abs(dataCorr) >= 0.01].stack().reset_index()\n",
    "dataCorr = dataCorr[dataCorr['level_0'].astype(str)!=dataCorr['level_1'].astype(str)]\n",
    " \n",
    "# filtering out lower/upper triangular duplicates \n",
    "dataCorr['ordered-cols'] = dataCorr.apply(lambda x: '-'.join(sorted([x['level_0'],x['level_1']])),axis=1)\n",
    "dataCorr = dataCorr.drop_duplicates(['ordered-cols'])\n",
    "dataCorr.drop(['ordered-cols'], axis=1, inplace=True)\n",
    "print('Correlação entre ativos') \n",
    "print(dataCorr.sort_values(by=[0], ascending=False))\n",
    "\n",
    "print('Média sem ponderação das correlações')\n",
    "print(dataCorr[0].mean())\n",
    "#sns.distplot(dfretornos['SGPS3.SA'],kde=False,bins=50)"
   ]
  },
  {
   "cell_type": "code",
   "execution_count": 2,
   "metadata": {},
   "outputs": [
    {
     "data": {
      "text/html": [
       "<div>\n",
       "<style scoped>\n",
       "    .dataframe tbody tr th:only-of-type {\n",
       "        vertical-align: middle;\n",
       "    }\n",
       "\n",
       "    .dataframe tbody tr th {\n",
       "        vertical-align: top;\n",
       "    }\n",
       "\n",
       "    .dataframe thead th {\n",
       "        text-align: right;\n",
       "    }\n",
       "</style>\n",
       "<table border=\"1\" class=\"dataframe\">\n",
       "  <thead>\n",
       "    <tr style=\"text-align: right;\">\n",
       "      <th></th>\n",
       "      <th>PETR4.SA</th>\n",
       "      <th>WEGE3.SA</th>\n",
       "    </tr>\n",
       "  </thead>\n",
       "  <tbody>\n",
       "    <tr>\n",
       "      <th>count</th>\n",
       "      <td>643.000000</td>\n",
       "      <td>643.000000</td>\n",
       "    </tr>\n",
       "    <tr>\n",
       "      <th>mean</th>\n",
       "      <td>0.000972</td>\n",
       "      <td>0.002556</td>\n",
       "    </tr>\n",
       "    <tr>\n",
       "      <th>std</th>\n",
       "      <td>0.033657</td>\n",
       "      <td>0.027061</td>\n",
       "    </tr>\n",
       "    <tr>\n",
       "      <th>min</th>\n",
       "      <td>-0.296978</td>\n",
       "      <td>-0.206197</td>\n",
       "    </tr>\n",
       "    <tr>\n",
       "      <th>25%</th>\n",
       "      <td>-0.012912</td>\n",
       "      <td>-0.010650</td>\n",
       "    </tr>\n",
       "    <tr>\n",
       "      <th>50%</th>\n",
       "      <td>0.000880</td>\n",
       "      <td>0.003284</td>\n",
       "    </tr>\n",
       "    <tr>\n",
       "      <th>75%</th>\n",
       "      <td>0.015325</td>\n",
       "      <td>0.015386</td>\n",
       "    </tr>\n",
       "    <tr>\n",
       "      <th>max</th>\n",
       "      <td>0.222222</td>\n",
       "      <td>0.138945</td>\n",
       "    </tr>\n",
       "  </tbody>\n",
       "</table>\n",
       "</div>"
      ],
      "text/plain": [
       "         PETR4.SA    WEGE3.SA\n",
       "count  643.000000  643.000000\n",
       "mean     0.000972    0.002556\n",
       "std      0.033657    0.027061\n",
       "min     -0.296978   -0.206197\n",
       "25%     -0.012912   -0.010650\n",
       "50%      0.000880    0.003284\n",
       "75%      0.015325    0.015386\n",
       "max      0.222222    0.138945"
      ]
     },
     "execution_count": 2,
     "metadata": {},
     "output_type": "execute_result"
    }
   ],
   "source": [
    "dfretornos.describe()"
   ]
  },
  {
   "cell_type": "code",
   "execution_count": 3,
   "metadata": {},
   "outputs": [
    {
     "name": "stdout",
     "output_type": "stream",
     "text": [
      "            PETR4.SA  WEGE3.SA\n",
      "Date                          \n",
      "2018-07-30       NaN       NaN\n",
      "2018-07-31 -0.008547 -0.004839\n",
      "2018-08-01  0.014706 -0.010805\n",
      "2018-08-02  0.019990 -0.019115\n",
      "2018-08-03  0.034297  0.009465\n",
      "...              ...       ...\n",
      "2021-03-09  0.023223  0.033984\n",
      "2021-03-10  0.034738  0.010909\n",
      "2021-03-11  0.042525 -0.004981\n",
      "2021-03-12 -0.005152 -0.010706\n",
      "2021-03-15  0.020716  0.029093\n",
      "\n",
      "[644 rows x 2 columns]\n"
     ]
    }
   ],
   "source": [
    "print(dfretornos)"
   ]
  },
  {
   "cell_type": "code",
   "execution_count": 4,
   "metadata": {
    "collapsed": true
   },
   "outputs": [],
   "source": [
    "#sns.distplot(dfretornos['BRFS3.SA'],kde=False,bins=50)"
   ]
  },
  {
   "cell_type": "code",
   "execution_count": 5,
   "metadata": {
    "collapsed": true
   },
   "outputs": [],
   "source": [
    "#av.head()"
   ]
  },
  {
   "cell_type": "code",
   "execution_count": 6,
   "metadata": {
    "collapsed": true
   },
   "outputs": [],
   "source": [
    "#print(std)"
   ]
  },
  {
   "cell_type": "code",
   "execution_count": 7,
   "metadata": {
    "collapsed": true
   },
   "outputs": [],
   "source": [
    "#print(cov)"
   ]
  },
  {
   "cell_type": "code",
   "execution_count": 8,
   "metadata": {
    "collapsed": true
   },
   "outputs": [],
   "source": [
    "#print(len(Lista))"
   ]
  },
  {
   "cell_type": "code",
   "execution_count": 9,
   "metadata": {
    "collapsed": true
   },
   "outputs": [],
   "source": [
    "#print(matrixav)"
   ]
  },
  {
   "cell_type": "code",
   "execution_count": 10,
   "metadata": {
    "collapsed": true
   },
   "outputs": [],
   "source": [
    "matrixpesos=np.array([pesos['Pesos']])"
   ]
  },
  {
   "cell_type": "code",
   "execution_count": 11,
   "metadata": {},
   "outputs": [
    {
     "name": "stdout",
     "output_type": "stream",
     "text": [
      "[[0.5 0.5]]\n"
     ]
    }
   ],
   "source": [
    "print(matrixpesos)"
   ]
  },
  {
   "cell_type": "code",
   "execution_count": 12,
   "metadata": {},
   "outputs": [
    {
     "name": "stdout",
     "output_type": "stream",
     "text": [
      "Retorno Pesos iguais\n",
      "0.001763925042191293\n"
     ]
    }
   ],
   "source": [
    "retornoport=matrixpesos @ matrixav.T\n",
    "print(\"Retorno Pesos iguais\")\n",
    "print (retornoport[0][0])"
   ]
  },
  {
   "cell_type": "code",
   "execution_count": 13,
   "metadata": {},
   "outputs": [
    {
     "name": "stdout",
     "output_type": "stream",
     "text": [
      "          0\n",
      "0  0.000672\n"
     ]
    }
   ],
   "source": [
    "varport=(matrixpesos @ cov) @ matrixpesos.T\n",
    "print(varport)"
   ]
  },
  {
   "cell_type": "code",
   "execution_count": 14,
   "metadata": {},
   "outputs": [
    {
     "name": "stdout",
     "output_type": "stream",
     "text": [
      "Std Pesos iguais\n",
      "0.025916769407975073\n"
     ]
    }
   ],
   "source": [
    "stdport=math.sqrt((varport[0][0]))\n",
    "print(\"Std Pesos iguais\")\n",
    "print(stdport)"
   ]
  },
  {
   "cell_type": "code",
   "execution_count": 15,
   "metadata": {},
   "outputs": [
    {
     "name": "stdout",
     "output_type": "stream",
     "text": [
      "Sharpe Pesos iguais\n",
      "0.06806114660450312\n"
     ]
    }
   ],
   "source": [
    "print(\"Sharpe Pesos iguais\")\n",
    "print((retornoport[0][0]-Rf)/stdport)"
   ]
  },
  {
   "cell_type": "code",
   "execution_count": 16,
   "metadata": {},
   "outputs": [
    {
     "name": "stdout",
     "output_type": "stream",
     "text": [
      "[[0.28248801 0.71751199]]\n"
     ]
    }
   ],
   "source": [
    "#comeco segunda iteração\n",
    "matrixpesos=np.random.dirichlet(np.ones(len(Lista)),size=1)\n",
    "print(matrixpesos)"
   ]
  },
  {
   "cell_type": "code",
   "execution_count": null,
   "metadata": {
    "collapsed": true
   },
   "outputs": [],
   "source": []
  },
  {
   "cell_type": "code",
   "execution_count": 17,
   "metadata": {},
   "outputs": [
    {
     "name": "stdout",
     "output_type": "stream",
     "text": [
      "0.002108279499605843\n"
     ]
    }
   ],
   "source": [
    "retornoport=matrixpesos @ matrixav.T\n",
    "print (retornoport[0][0])"
   ]
  },
  {
   "cell_type": "code",
   "execution_count": 18,
   "metadata": {},
   "outputs": [
    {
     "name": "stdout",
     "output_type": "stream",
     "text": [
      "0.025178122053764827\n"
     ]
    }
   ],
   "source": [
    "varport=(matrixpesos @ cov) @ matrixpesos.T\n",
    "stdport=math.sqrt((varport[0][0]))\n",
    "print(stdport)"
   ]
  },
  {
   "cell_type": "code",
   "execution_count": 19,
   "metadata": {},
   "outputs": [
    {
     "name": "stdout",
     "output_type": "stream",
     "text": [
      "[[0.49738666 0.50261334]]\n"
     ]
    }
   ],
   "source": [
    "teste=np.random.dirichlet(np.ones(len(Lista)),size=1)\n",
    "print (teste)"
   ]
  },
  {
   "cell_type": "code",
   "execution_count": 20,
   "metadata": {},
   "outputs": [
    {
     "name": "stdout",
     "output_type": "stream",
     "text": [
      "1.0\n"
     ]
    }
   ],
   "source": [
    "print (np.sum(teste))"
   ]
  },
  {
   "cell_type": "code",
   "execution_count": 21,
   "metadata": {},
   "outputs": [
    {
     "data": {
      "text/html": [
       "<div>\n",
       "<style scoped>\n",
       "    .dataframe tbody tr th:only-of-type {\n",
       "        vertical-align: middle;\n",
       "    }\n",
       "\n",
       "    .dataframe tbody tr th {\n",
       "        vertical-align: top;\n",
       "    }\n",
       "\n",
       "    .dataframe thead th {\n",
       "        text-align: right;\n",
       "    }\n",
       "</style>\n",
       "<table border=\"1\" class=\"dataframe\">\n",
       "  <thead>\n",
       "    <tr style=\"text-align: right;\">\n",
       "      <th></th>\n",
       "      <th>Corr Port</th>\n",
       "      <th>Retorno anualizado</th>\n",
       "      <th>Vol anualizada</th>\n",
       "      <th>Retorno Período:</th>\n",
       "      <th>Std</th>\n",
       "      <th>Sharpe</th>\n",
       "      <th>PETR4.SA</th>\n",
       "      <th>WEGE3.SA</th>\n",
       "    </tr>\n",
       "  </thead>\n",
       "  <tbody>\n",
       "    <tr>\n",
       "      <th>0</th>\n",
       "      <td>0.878318</td>\n",
       "      <td>0.808767</td>\n",
       "      <td>0.410135</td>\n",
       "      <td>0.002355</td>\n",
       "      <td>0.025836</td>\n",
       "      <td>0.091134</td>\n",
       "      <td>0.126940</td>\n",
       "      <td>0.873060</td>\n",
       "    </tr>\n",
       "    <tr>\n",
       "      <th>1</th>\n",
       "      <td>0.821589</td>\n",
       "      <td>0.385806</td>\n",
       "      <td>0.471305</td>\n",
       "      <td>0.001296</td>\n",
       "      <td>0.029689</td>\n",
       "      <td>0.043639</td>\n",
       "      <td>0.795812</td>\n",
       "      <td>0.204188</td>\n",
       "    </tr>\n",
       "    <tr>\n",
       "      <th>2</th>\n",
       "      <td>0.725559</td>\n",
       "      <td>0.555087</td>\n",
       "      <td>0.412225</td>\n",
       "      <td>0.001754</td>\n",
       "      <td>0.025968</td>\n",
       "      <td>0.067532</td>\n",
       "      <td>0.506494</td>\n",
       "      <td>0.493506</td>\n",
       "    </tr>\n",
       "    <tr>\n",
       "      <th>3</th>\n",
       "      <td>0.783702</td>\n",
       "      <td>0.708787</td>\n",
       "      <td>0.399957</td>\n",
       "      <td>0.002128</td>\n",
       "      <td>0.025195</td>\n",
       "      <td>0.084477</td>\n",
       "      <td>0.269786</td>\n",
       "      <td>0.730214</td>\n",
       "    </tr>\n",
       "    <tr>\n",
       "      <th>4</th>\n",
       "      <td>0.949116</td>\n",
       "      <td>0.302557</td>\n",
       "      <td>0.518038</td>\n",
       "      <td>0.001049</td>\n",
       "      <td>0.032633</td>\n",
       "      <td>0.032160</td>\n",
       "      <td>0.951282</td>\n",
       "      <td>0.048718</td>\n",
       "    </tr>\n",
       "  </tbody>\n",
       "</table>\n",
       "</div>"
      ],
      "text/plain": [
       "   Corr Port  Retorno anualizado  Vol anualizada  Retorno Período:        Std  \\\n",
       "0   0.878318            0.808767        0.410135           0.002355  0.025836   \n",
       "1   0.821589            0.385806        0.471305           0.001296  0.029689   \n",
       "2   0.725559            0.555087        0.412225           0.001754  0.025968   \n",
       "3   0.783702            0.708787        0.399957           0.002128  0.025195   \n",
       "4   0.949116            0.302557        0.518038           0.001049  0.032633   \n",
       "\n",
       "     Sharpe  PETR4.SA  WEGE3.SA  \n",
       "0  0.091134  0.126940  0.873060  \n",
       "1  0.043639  0.795812  0.204188  \n",
       "2  0.067532  0.506494  0.493506  \n",
       "3  0.084477  0.269786  0.730214  \n",
       "4  0.032160  0.951282  0.048718  "
      ]
     },
     "execution_count": 21,
     "metadata": {},
     "output_type": "execute_result"
    }
   ],
   "source": [
    "vol=0\n",
    "dfgraph=pd.DataFrame()\n",
    "dfgraph['Corr Port']=''\n",
    "dfgraph['Retorno anualizado']=''\n",
    "dfgraph['Vol anualizada']=''\n",
    "dfgraph['Retorno Período: '+dados]=''\n",
    "dfgraph['Std']=''\n",
    "dfgraph['Sharpe']=''\n",
    "for i in Lista:\n",
    "    dfgraph[i]=\"\"\n",
    "dfgraph.head()\n",
    "corrport=0\n",
    "j=0\n",
    "n=1000\n",
    "while j<len(Lista)*n:\n",
    "    matrixpesos=np.random.dirichlet(np.ones(len(Lista)),size=1)\n",
    "    retornoport=matrixpesos @ matrixav.T\n",
    "    varport=(matrixpesos @ cov) @ matrixpesos.T\n",
    "    corrport=(matrixpesos @ corr) @ matrixpesos.T\n",
    "    stdport=math.sqrt((varport[0][0]))\n",
    "    #sharpe=(retornoport-Rf)/stdport\n",
    "    vol=stdport*math.sqrt(252)\n",
    "    retornoanualizado=((1+retornoport)**(252)-1)\n",
    "    if dados=='M':\n",
    "        retornoanualizado=((1+retornoport)**(12)-1)\n",
    "        vol=stdport*math.sqrt(12)\n",
    "    elif dados=='W':\n",
    "        retornoanualizado=((1+retornoport)**(52)-1)\n",
    "        vol=stdport*math.sqrt(52)\n",
    "                           \n",
    "    sharpe=(retornoport-Rf)/stdport\n",
    "    to_append=[corrport[0][0], retornoanualizado[0][0],vol,retornoport[0][0], stdport, sharpe[0][0]]\n",
    "    #print(matrixpesos[0])\n",
    "    #print(to_append)\n",
    "    to_append=to_append + list(matrixpesos[0])\n",
    "    #print(to_append)\n",
    "    a_series=pd.Series(to_append, index=dfgraph.columns)\n",
    "    dfgraph=dfgraph.append(a_series,ignore_index=True)\n",
    "    j=j+1\n",
    "    #print(j)\n",
    "dfgraph.head()    "
   ]
  },
  {
   "cell_type": "code",
   "execution_count": 22,
   "metadata": {},
   "outputs": [
    {
     "name": "stdout",
     "output_type": "stream",
     "text": [
      "Mínimo Desvio\n"
     ]
    }
   ],
   "source": [
    "min_std=dfgraph.sort_values(by='Std', ascending=True)\n",
    "print('Mínimo Desvio')\n",
    "\n",
    "\n"
   ]
  },
  {
   "cell_type": "code",
   "execution_count": 23,
   "metadata": {
    "collapsed": true
   },
   "outputs": [],
   "source": [
    "\n",
    "std_min=min_std['Std'].iloc[0]\n",
    "ret_min=min_std['Retorno Período: '+dados].iloc[0]"
   ]
  },
  {
   "cell_type": "code",
   "execution_count": 24,
   "metadata": {},
   "outputs": [
    {
     "data": {
      "text/html": [
       "<div>\n",
       "<style scoped>\n",
       "    .dataframe tbody tr th:only-of-type {\n",
       "        vertical-align: middle;\n",
       "    }\n",
       "\n",
       "    .dataframe tbody tr th {\n",
       "        vertical-align: top;\n",
       "    }\n",
       "\n",
       "    .dataframe thead th {\n",
       "        text-align: right;\n",
       "    }\n",
       "</style>\n",
       "<table border=\"1\" class=\"dataframe\">\n",
       "  <thead>\n",
       "    <tr style=\"text-align: right;\">\n",
       "      <th></th>\n",
       "      <th>Corr Port</th>\n",
       "      <th>Retorno anualizado</th>\n",
       "      <th>Vol anualizada</th>\n",
       "      <th>Retorno Período:</th>\n",
       "      <th>Std</th>\n",
       "      <th>Sharpe</th>\n",
       "      <th>PETR4.SA</th>\n",
       "      <th>WEGE3.SA</th>\n",
       "    </tr>\n",
       "  </thead>\n",
       "  <tbody>\n",
       "    <tr>\n",
       "      <th>781</th>\n",
       "      <td>0.765941</td>\n",
       "      <td>0.682913</td>\n",
       "      <td>0.399474</td>\n",
       "      <td>0.002068</td>\n",
       "      <td>0.025165</td>\n",
       "      <td>0.082168</td>\n",
       "      <td>0.308111</td>\n",
       "      <td>0.691889</td>\n",
       "    </tr>\n",
       "    <tr>\n",
       "      <th>763</th>\n",
       "      <td>0.765950</td>\n",
       "      <td>0.682927</td>\n",
       "      <td>0.399474</td>\n",
       "      <td>0.002068</td>\n",
       "      <td>0.025165</td>\n",
       "      <td>0.082169</td>\n",
       "      <td>0.308090</td>\n",
       "      <td>0.691910</td>\n",
       "    </tr>\n",
       "    <tr>\n",
       "      <th>228</th>\n",
       "      <td>0.765901</td>\n",
       "      <td>0.682850</td>\n",
       "      <td>0.399474</td>\n",
       "      <td>0.002068</td>\n",
       "      <td>0.025165</td>\n",
       "      <td>0.082162</td>\n",
       "      <td>0.308205</td>\n",
       "      <td>0.691795</td>\n",
       "    </tr>\n",
       "    <tr>\n",
       "      <th>1303</th>\n",
       "      <td>0.766017</td>\n",
       "      <td>0.683034</td>\n",
       "      <td>0.399474</td>\n",
       "      <td>0.002068</td>\n",
       "      <td>0.025165</td>\n",
       "      <td>0.082179</td>\n",
       "      <td>0.307930</td>\n",
       "      <td>0.692070</td>\n",
       "    </tr>\n",
       "    <tr>\n",
       "      <th>894</th>\n",
       "      <td>0.766164</td>\n",
       "      <td>0.683266</td>\n",
       "      <td>0.399474</td>\n",
       "      <td>0.002069</td>\n",
       "      <td>0.025165</td>\n",
       "      <td>0.082201</td>\n",
       "      <td>0.307583</td>\n",
       "      <td>0.692417</td>\n",
       "    </tr>\n",
       "  </tbody>\n",
       "</table>\n",
       "</div>"
      ],
      "text/plain": [
       "      Corr Port  Retorno anualizado  Vol anualizada  Retorno Período:   \\\n",
       "781    0.765941            0.682913        0.399474           0.002068   \n",
       "763    0.765950            0.682927        0.399474           0.002068   \n",
       "228    0.765901            0.682850        0.399474           0.002068   \n",
       "1303   0.766017            0.683034        0.399474           0.002068   \n",
       "894    0.766164            0.683266        0.399474           0.002069   \n",
       "\n",
       "           Std    Sharpe  PETR4.SA  WEGE3.SA  \n",
       "781   0.025165  0.082168  0.308111  0.691889  \n",
       "763   0.025165  0.082169  0.308090  0.691910  \n",
       "228   0.025165  0.082162  0.308205  0.691795  \n",
       "1303  0.025165  0.082179  0.307930  0.692070  \n",
       "894   0.025165  0.082201  0.307583  0.692417  "
      ]
     },
     "execution_count": 24,
     "metadata": {},
     "output_type": "execute_result"
    }
   ],
   "source": [
    "min_std.head()"
   ]
  },
  {
   "cell_type": "code",
   "execution_count": 25,
   "metadata": {},
   "outputs": [
    {
     "name": "stdout",
     "output_type": "stream",
     "text": [
      "Máximo Retorno\n"
     ]
    },
    {
     "data": {
      "text/html": [
       "<div>\n",
       "<style scoped>\n",
       "    .dataframe tbody tr th:only-of-type {\n",
       "        vertical-align: middle;\n",
       "    }\n",
       "\n",
       "    .dataframe tbody tr th {\n",
       "        vertical-align: top;\n",
       "    }\n",
       "\n",
       "    .dataframe thead th {\n",
       "        text-align: right;\n",
       "    }\n",
       "</style>\n",
       "<table border=\"1\" class=\"dataframe\">\n",
       "  <thead>\n",
       "    <tr style=\"text-align: right;\">\n",
       "      <th></th>\n",
       "      <th>Corr Port</th>\n",
       "      <th>Retorno anualizado</th>\n",
       "      <th>Vol anualizada</th>\n",
       "      <th>Retorno Período:</th>\n",
       "      <th>Std</th>\n",
       "      <th>Sharpe</th>\n",
       "      <th>PETR4.SA</th>\n",
       "      <th>WEGE3.SA</th>\n",
       "    </tr>\n",
       "  </thead>\n",
       "  <tbody>\n",
       "    <tr>\n",
       "      <th>78</th>\n",
       "      <td>0.999844</td>\n",
       "      <td>0.902384</td>\n",
       "      <td>0.429558</td>\n",
       "      <td>0.002555</td>\n",
       "      <td>0.027060</td>\n",
       "      <td>0.094431</td>\n",
       "      <td>0.000142</td>\n",
       "      <td>0.999858</td>\n",
       "    </tr>\n",
       "    <tr>\n",
       "      <th>438</th>\n",
       "      <td>0.998603</td>\n",
       "      <td>0.901528</td>\n",
       "      <td>0.429345</td>\n",
       "      <td>0.002553</td>\n",
       "      <td>0.027046</td>\n",
       "      <td>0.094412</td>\n",
       "      <td>0.001274</td>\n",
       "      <td>0.998726</td>\n",
       "    </tr>\n",
       "    <tr>\n",
       "      <th>1535</th>\n",
       "      <td>0.998600</td>\n",
       "      <td>0.901526</td>\n",
       "      <td>0.429345</td>\n",
       "      <td>0.002553</td>\n",
       "      <td>0.027046</td>\n",
       "      <td>0.094412</td>\n",
       "      <td>0.001277</td>\n",
       "      <td>0.998723</td>\n",
       "    </tr>\n",
       "    <tr>\n",
       "      <th>1355</th>\n",
       "      <td>0.998274</td>\n",
       "      <td>0.901300</td>\n",
       "      <td>0.429289</td>\n",
       "      <td>0.002553</td>\n",
       "      <td>0.027043</td>\n",
       "      <td>0.094407</td>\n",
       "      <td>0.001575</td>\n",
       "      <td>0.998425</td>\n",
       "    </tr>\n",
       "    <tr>\n",
       "      <th>1270</th>\n",
       "      <td>0.998096</td>\n",
       "      <td>0.901177</td>\n",
       "      <td>0.429258</td>\n",
       "      <td>0.002553</td>\n",
       "      <td>0.027041</td>\n",
       "      <td>0.094404</td>\n",
       "      <td>0.001738</td>\n",
       "      <td>0.998262</td>\n",
       "    </tr>\n",
       "  </tbody>\n",
       "</table>\n",
       "</div>"
      ],
      "text/plain": [
       "      Corr Port  Retorno anualizado  Vol anualizada  Retorno Período:   \\\n",
       "78     0.999844            0.902384        0.429558           0.002555   \n",
       "438    0.998603            0.901528        0.429345           0.002553   \n",
       "1535   0.998600            0.901526        0.429345           0.002553   \n",
       "1355   0.998274            0.901300        0.429289           0.002553   \n",
       "1270   0.998096            0.901177        0.429258           0.002553   \n",
       "\n",
       "           Std    Sharpe  PETR4.SA  WEGE3.SA  \n",
       "78    0.027060  0.094431  0.000142  0.999858  \n",
       "438   0.027046  0.094412  0.001274  0.998726  \n",
       "1535  0.027046  0.094412  0.001277  0.998723  \n",
       "1355  0.027043  0.094407  0.001575  0.998425  \n",
       "1270  0.027041  0.094404  0.001738  0.998262  "
      ]
     },
     "execution_count": 25,
     "metadata": {},
     "output_type": "execute_result"
    }
   ],
   "source": [
    "max_return=dfgraph.sort_values(by='Retorno Período: '+dados, ascending=False)\n",
    "print('Máximo Retorno')\n",
    "max_return.head()"
   ]
  },
  {
   "cell_type": "code",
   "execution_count": 26,
   "metadata": {},
   "outputs": [
    {
     "name": "stdout",
     "output_type": "stream",
     "text": [
      "Máximo Sharpe\n"
     ]
    },
    {
     "data": {
      "text/html": [
       "<div>\n",
       "<style scoped>\n",
       "    .dataframe tbody tr th:only-of-type {\n",
       "        vertical-align: middle;\n",
       "    }\n",
       "\n",
       "    .dataframe tbody tr th {\n",
       "        vertical-align: top;\n",
       "    }\n",
       "\n",
       "    .dataframe thead th {\n",
       "        text-align: right;\n",
       "    }\n",
       "</style>\n",
       "<table border=\"1\" class=\"dataframe\">\n",
       "  <thead>\n",
       "    <tr style=\"text-align: right;\">\n",
       "      <th></th>\n",
       "      <th>Corr Port</th>\n",
       "      <th>Retorno anualizado</th>\n",
       "      <th>Vol anualizada</th>\n",
       "      <th>Retorno Período:</th>\n",
       "      <th>Std</th>\n",
       "      <th>Sharpe</th>\n",
       "      <th>PETR4.SA</th>\n",
       "      <th>WEGE3.SA</th>\n",
       "    </tr>\n",
       "  </thead>\n",
       "  <tbody>\n",
       "    <tr>\n",
       "      <th>78</th>\n",
       "      <td>0.999844</td>\n",
       "      <td>0.902384</td>\n",
       "      <td>0.429558</td>\n",
       "      <td>0.002555</td>\n",
       "      <td>0.027060</td>\n",
       "      <td>0.094431</td>\n",
       "      <td>0.000142</td>\n",
       "      <td>0.999858</td>\n",
       "    </tr>\n",
       "    <tr>\n",
       "      <th>438</th>\n",
       "      <td>0.998603</td>\n",
       "      <td>0.901528</td>\n",
       "      <td>0.429345</td>\n",
       "      <td>0.002553</td>\n",
       "      <td>0.027046</td>\n",
       "      <td>0.094412</td>\n",
       "      <td>0.001274</td>\n",
       "      <td>0.998726</td>\n",
       "    </tr>\n",
       "    <tr>\n",
       "      <th>1535</th>\n",
       "      <td>0.998600</td>\n",
       "      <td>0.901526</td>\n",
       "      <td>0.429345</td>\n",
       "      <td>0.002553</td>\n",
       "      <td>0.027046</td>\n",
       "      <td>0.094412</td>\n",
       "      <td>0.001277</td>\n",
       "      <td>0.998723</td>\n",
       "    </tr>\n",
       "    <tr>\n",
       "      <th>1355</th>\n",
       "      <td>0.998274</td>\n",
       "      <td>0.901300</td>\n",
       "      <td>0.429289</td>\n",
       "      <td>0.002553</td>\n",
       "      <td>0.027043</td>\n",
       "      <td>0.094407</td>\n",
       "      <td>0.001575</td>\n",
       "      <td>0.998425</td>\n",
       "    </tr>\n",
       "    <tr>\n",
       "      <th>1270</th>\n",
       "      <td>0.998096</td>\n",
       "      <td>0.901177</td>\n",
       "      <td>0.429258</td>\n",
       "      <td>0.002553</td>\n",
       "      <td>0.027041</td>\n",
       "      <td>0.094404</td>\n",
       "      <td>0.001738</td>\n",
       "      <td>0.998262</td>\n",
       "    </tr>\n",
       "  </tbody>\n",
       "</table>\n",
       "</div>"
      ],
      "text/plain": [
       "      Corr Port  Retorno anualizado  Vol anualizada  Retorno Período:   \\\n",
       "78     0.999844            0.902384        0.429558           0.002555   \n",
       "438    0.998603            0.901528        0.429345           0.002553   \n",
       "1535   0.998600            0.901526        0.429345           0.002553   \n",
       "1355   0.998274            0.901300        0.429289           0.002553   \n",
       "1270   0.998096            0.901177        0.429258           0.002553   \n",
       "\n",
       "           Std    Sharpe  PETR4.SA  WEGE3.SA  \n",
       "78    0.027060  0.094431  0.000142  0.999858  \n",
       "438   0.027046  0.094412  0.001274  0.998726  \n",
       "1535  0.027046  0.094412  0.001277  0.998723  \n",
       "1355  0.027043  0.094407  0.001575  0.998425  \n",
       "1270  0.027041  0.094404  0.001738  0.998262  "
      ]
     },
     "execution_count": 26,
     "metadata": {},
     "output_type": "execute_result"
    }
   ],
   "source": [
    "max_return=dfgraph.sort_values(by='Sharpe', ascending=False)\n",
    "print('Máximo Sharpe')\n",
    "max_return.head()"
   ]
  },
  {
   "cell_type": "code",
   "execution_count": 27,
   "metadata": {
    "collapsed": true
   },
   "outputs": [],
   "source": [
    "#dfgraph.iplot(theme=\"white\",x=\"Std\",y='Retorno Período: '+dados,kind='scatter', mode='markers',title=\"Estudo Markowitz\")"
   ]
  },
  {
   "cell_type": "code",
   "execution_count": 28,
   "metadata": {},
   "outputs": [
    {
     "name": "stdout",
     "output_type": "stream",
     "text": [
      "Média Std\n",
      "0.02745039691371398\n"
     ]
    }
   ],
   "source": [
    "#meio=(dfgraph['Std'].min()+dfgraph['Std'].max())/2\n",
    "meio=dfgraph['Std'].mean()\n",
    "print(\"Média Std\")\n",
    "print(meio)\n",
    "escolha=dfgraph.iloc[(dfgraph['Std']-meio).abs().argsort()[:5]]\n",
    "escolha=escolha.sort_values(by='Retorno anualizado', ascending=False)"
   ]
  },
  {
   "cell_type": "code",
   "execution_count": 29,
   "metadata": {},
   "outputs": [
    {
     "data": {
      "text/html": [
       "<div>\n",
       "<style scoped>\n",
       "    .dataframe tbody tr th:only-of-type {\n",
       "        vertical-align: middle;\n",
       "    }\n",
       "\n",
       "    .dataframe tbody tr th {\n",
       "        vertical-align: top;\n",
       "    }\n",
       "\n",
       "    .dataframe thead th {\n",
       "        text-align: right;\n",
       "    }\n",
       "</style>\n",
       "<table border=\"1\" class=\"dataframe\">\n",
       "  <thead>\n",
       "    <tr style=\"text-align: right;\">\n",
       "      <th></th>\n",
       "      <th>Corr Port</th>\n",
       "      <th>Retorno anualizado</th>\n",
       "      <th>Vol anualizada</th>\n",
       "      <th>Retorno Período:</th>\n",
       "      <th>Std</th>\n",
       "      <th>Sharpe</th>\n",
       "      <th>PETR4.SA</th>\n",
       "      <th>WEGE3.SA</th>\n",
       "    </tr>\n",
       "  </thead>\n",
       "  <tbody>\n",
       "    <tr>\n",
       "      <th>1171</th>\n",
       "      <td>0.748864</td>\n",
       "      <td>0.471132</td>\n",
       "      <td>0.435401</td>\n",
       "      <td>0.001533</td>\n",
       "      <td>0.027428</td>\n",
       "      <td>0.055894</td>\n",
       "      <td>0.645834</td>\n",
       "      <td>0.354166</td>\n",
       "    </tr>\n",
       "    <tr>\n",
       "      <th>1673</th>\n",
       "      <td>0.749346</td>\n",
       "      <td>0.470254</td>\n",
       "      <td>0.435707</td>\n",
       "      <td>0.001531</td>\n",
       "      <td>0.027447</td>\n",
       "      <td>0.055768</td>\n",
       "      <td>0.647332</td>\n",
       "      <td>0.352668</td>\n",
       "    </tr>\n",
       "    <tr>\n",
       "      <th>1674</th>\n",
       "      <td>0.749508</td>\n",
       "      <td>0.469961</td>\n",
       "      <td>0.435810</td>\n",
       "      <td>0.001530</td>\n",
       "      <td>0.027453</td>\n",
       "      <td>0.055726</td>\n",
       "      <td>0.647833</td>\n",
       "      <td>0.352167</td>\n",
       "    </tr>\n",
       "    <tr>\n",
       "      <th>595</th>\n",
       "      <td>0.749723</td>\n",
       "      <td>0.469575</td>\n",
       "      <td>0.435945</td>\n",
       "      <td>0.001529</td>\n",
       "      <td>0.027462</td>\n",
       "      <td>0.055671</td>\n",
       "      <td>0.648493</td>\n",
       "      <td>0.351507</td>\n",
       "    </tr>\n",
       "    <tr>\n",
       "      <th>1948</th>\n",
       "      <td>0.749937</td>\n",
       "      <td>0.469191</td>\n",
       "      <td>0.436080</td>\n",
       "      <td>0.001528</td>\n",
       "      <td>0.027470</td>\n",
       "      <td>0.055616</td>\n",
       "      <td>0.649149</td>\n",
       "      <td>0.350851</td>\n",
       "    </tr>\n",
       "  </tbody>\n",
       "</table>\n",
       "</div>"
      ],
      "text/plain": [
       "      Corr Port  Retorno anualizado  Vol anualizada  Retorno Período:   \\\n",
       "1171   0.748864            0.471132        0.435401           0.001533   \n",
       "1673   0.749346            0.470254        0.435707           0.001531   \n",
       "1674   0.749508            0.469961        0.435810           0.001530   \n",
       "595    0.749723            0.469575        0.435945           0.001529   \n",
       "1948   0.749937            0.469191        0.436080           0.001528   \n",
       "\n",
       "           Std    Sharpe  PETR4.SA  WEGE3.SA  \n",
       "1171  0.027428  0.055894  0.645834  0.354166  \n",
       "1673  0.027447  0.055768  0.647332  0.352668  \n",
       "1674  0.027453  0.055726  0.647833  0.352167  \n",
       "595   0.027462  0.055671  0.648493  0.351507  \n",
       "1948  0.027470  0.055616  0.649149  0.350851  "
      ]
     },
     "execution_count": 29,
     "metadata": {},
     "output_type": "execute_result"
    }
   ],
   "source": [
    "escolha.head()"
   ]
  },
  {
   "cell_type": "code",
   "execution_count": 30,
   "metadata": {},
   "outputs": [
    {
     "data": {
      "text/plain": [
       "Index(['PETR4.SA', 'WEGE3.SA'], dtype='object')"
      ]
     },
     "execution_count": 30,
     "metadata": {},
     "output_type": "execute_result"
    }
   ],
   "source": [
    "dfretornos.columns"
   ]
  },
  {
   "cell_type": "code",
   "execution_count": 31,
   "metadata": {},
   "outputs": [
    {
     "data": {
      "image/png": "[encoded data removed]",
      "text/plain": [
       "<Figure size 432x288 with 1 Axes>"
      ]
     },
     "metadata": {},
     "output_type": "display_data"
    }
   ],
   "source": [
    "dfgraph.plot(x ='Std', y='Retorno Período: '+dados, kind = 'scatter',label='Markowitz')\n",
    "plt.show()"
   ]
  },
  {
   "cell_type": "code",
   "execution_count": 32,
   "metadata": {},
   "outputs": [
    {
     "data": {
      "text/plain": [
       "0.46915252437913363"
      ]
     },
     "execution_count": 32,
     "metadata": {},
     "output_type": "execute_result"
    }
   ],
   "source": [
    "vol"
   ]
  },
  {
   "cell_type": "code",
   "execution_count": 33,
   "metadata": {},
   "outputs": [
    {
     "name": "stdout",
     "output_type": "stream",
     "text": [
      "Mínima Correlacao\n"
     ]
    },
    {
     "data": {
      "text/html": [
       "<div>\n",
       "<style scoped>\n",
       "    .dataframe tbody tr th:only-of-type {\n",
       "        vertical-align: middle;\n",
       "    }\n",
       "\n",
       "    .dataframe tbody tr th {\n",
       "        vertical-align: top;\n",
       "    }\n",
       "\n",
       "    .dataframe thead th {\n",
       "        text-align: right;\n",
       "    }\n",
       "</style>\n",
       "<table border=\"1\" class=\"dataframe\">\n",
       "  <thead>\n",
       "    <tr style=\"text-align: right;\">\n",
       "      <th></th>\n",
       "      <th>Corr Port</th>\n",
       "      <th>Retorno anualizado</th>\n",
       "      <th>Vol anualizada</th>\n",
       "      <th>Retorno Período:</th>\n",
       "      <th>Std</th>\n",
       "      <th>Sharpe</th>\n",
       "      <th>PETR4.SA</th>\n",
       "      <th>WEGE3.SA</th>\n",
       "    </tr>\n",
       "  </thead>\n",
       "  <tbody>\n",
       "    <tr>\n",
       "      <th>6</th>\n",
       "      <td>0.725513</td>\n",
       "      <td>0.558897</td>\n",
       "      <td>0.411459</td>\n",
       "      <td>0.001763</td>\n",
       "      <td>0.025919</td>\n",
       "      <td>0.068033</td>\n",
       "      <td>0.500350</td>\n",
       "      <td>0.499650</td>\n",
       "    </tr>\n",
       "    <tr>\n",
       "      <th>443</th>\n",
       "      <td>0.725513</td>\n",
       "      <td>0.558761</td>\n",
       "      <td>0.411486</td>\n",
       "      <td>0.001763</td>\n",
       "      <td>0.025921</td>\n",
       "      <td>0.068015</td>\n",
       "      <td>0.500568</td>\n",
       "      <td>0.499432</td>\n",
       "    </tr>\n",
       "    <tr>\n",
       "      <th>1730</th>\n",
       "      <td>0.725513</td>\n",
       "      <td>0.559498</td>\n",
       "      <td>0.411340</td>\n",
       "      <td>0.001765</td>\n",
       "      <td>0.025912</td>\n",
       "      <td>0.068112</td>\n",
       "      <td>0.499381</td>\n",
       "      <td>0.500619</td>\n",
       "    </tr>\n",
       "    <tr>\n",
       "      <th>535</th>\n",
       "      <td>0.725513</td>\n",
       "      <td>0.559512</td>\n",
       "      <td>0.411337</td>\n",
       "      <td>0.001765</td>\n",
       "      <td>0.025912</td>\n",
       "      <td>0.068113</td>\n",
       "      <td>0.499359</td>\n",
       "      <td>0.500641</td>\n",
       "    </tr>\n",
       "    <tr>\n",
       "      <th>1640</th>\n",
       "      <td>0.725513</td>\n",
       "      <td>0.558689</td>\n",
       "      <td>0.411500</td>\n",
       "      <td>0.001763</td>\n",
       "      <td>0.025922</td>\n",
       "      <td>0.068005</td>\n",
       "      <td>0.500684</td>\n",
       "      <td>0.499316</td>\n",
       "    </tr>\n",
       "  </tbody>\n",
       "</table>\n",
       "</div>"
      ],
      "text/plain": [
       "      Corr Port  Retorno anualizado  Vol anualizada  Retorno Período:   \\\n",
       "6      0.725513            0.558897        0.411459           0.001763   \n",
       "443    0.725513            0.558761        0.411486           0.001763   \n",
       "1730   0.725513            0.559498        0.411340           0.001765   \n",
       "535    0.725513            0.559512        0.411337           0.001765   \n",
       "1640   0.725513            0.558689        0.411500           0.001763   \n",
       "\n",
       "           Std    Sharpe  PETR4.SA  WEGE3.SA  \n",
       "6     0.025919  0.068033  0.500350  0.499650  \n",
       "443   0.025921  0.068015  0.500568  0.499432  \n",
       "1730  0.025912  0.068112  0.499381  0.500619  \n",
       "535   0.025912  0.068113  0.499359  0.500641  \n",
       "1640  0.025922  0.068005  0.500684  0.499316  "
      ]
     },
     "execution_count": 33,
     "metadata": {},
     "output_type": "execute_result"
    }
   ],
   "source": [
    "min_corr=dfgraph.sort_values(by='Corr Port', ascending=True)\n",
    "print('Mínima Correlacao')\n",
    "min_corr.head()"
   ]
  },
  {
   "cell_type": "code",
   "execution_count": 34,
   "metadata": {},
   "outputs": [
    {
     "data": {
      "text/plain": [
       "array([[0.00130821]])"
      ]
     },
     "execution_count": 34,
     "metadata": {},
     "output_type": "execute_result"
    }
   ],
   "source": [
    "retornoport"
   ]
  },
  {
   "cell_type": "code",
   "execution_count": 35,
   "metadata": {
    "collapsed": true
   },
   "outputs": [],
   "source": [
    "ibov_acumulado=(1+bovespa['^BVSP']).cumprod()\n",
    "ibov_acumulado.iloc[0]=1\n"
   ]
  },
  {
   "cell_type": "code",
   "execution_count": 36,
   "metadata": {
    "collapsed": true
   },
   "outputs": [],
   "source": [
    "#ibov_acumulado"
   ]
  },
  {
   "cell_type": "code",
   "execution_count": 37,
   "metadata": {
    "collapsed": true
   },
   "outputs": [],
   "source": [
    "del min_std['Corr Port']\n",
    "del min_std['Retorno anualizado']\n",
    "del min_std['Vol anualizada']\n",
    "del min_std['Retorno Período: '+dados]\n",
    "del min_std['Std']\n",
    "del min_std['Sharpe']"
   ]
  },
  {
   "cell_type": "code",
   "execution_count": null,
   "metadata": {
    "collapsed": true
   },
   "outputs": [],
   "source": []
  },
  {
   "cell_type": "code",
   "execution_count": 38,
   "metadata": {
    "collapsed": true
   },
   "outputs": [],
   "source": [
    "pesos_min=pd.Series(min_std.iloc[0])"
   ]
  },
  {
   "cell_type": "code",
   "execution_count": 39,
   "metadata": {
    "collapsed": true
   },
   "outputs": [],
   "source": [
    "#pesos_min"
   ]
  },
  {
   "cell_type": "code",
   "execution_count": 40,
   "metadata": {
    "collapsed": true
   },
   "outputs": [],
   "source": [
    "retorno_min=dfretornos*pesos_min"
   ]
  },
  {
   "cell_type": "code",
   "execution_count": 41,
   "metadata": {
    "collapsed": true
   },
   "outputs": [],
   "source": [
    "#retorno_min"
   ]
  },
  {
   "cell_type": "code",
   "execution_count": 42,
   "metadata": {
    "collapsed": true
   },
   "outputs": [],
   "source": [
    "#dfretornos"
   ]
  },
  {
   "cell_type": "code",
   "execution_count": 43,
   "metadata": {
    "collapsed": true
   },
   "outputs": [],
   "source": [
    "#pesos_min"
   ]
  },
  {
   "cell_type": "code",
   "execution_count": 44,
   "metadata": {
    "collapsed": true
   },
   "outputs": [],
   "source": [
    "historico=retorno_min.sum(axis=1)\n",
    "#historico"
   ]
  },
  {
   "cell_type": "code",
   "execution_count": 45,
   "metadata": {
    "collapsed": true
   },
   "outputs": [],
   "source": [
    "historico_acumulado=(1+historico).cumprod()\n",
    "historico_acumulado.iloc[0]=1"
   ]
  },
  {
   "cell_type": "code",
   "execution_count": 46,
   "metadata": {
    "collapsed": true
   },
   "outputs": [],
   "source": [
    "#historico_acumulado"
   ]
  },
  {
   "cell_type": "code",
   "execution_count": 47,
   "metadata": {
    "collapsed": true
   },
   "outputs": [],
   "source": [
    "cdi=consulta_bc(12)\n",
    "cdi_acumulado=(1+cdi[cdi.index>=Periodo]/100).cumprod()\n",
    "cdi_acumulado.iloc[0]=1"
   ]
  },
  {
   "cell_type": "code",
   "execution_count": 48,
   "metadata": {},
   "outputs": [
    {
     "data": {
      "image/png": "[encoded data removed]",
      "text/plain": [
       "<Figure size 432x288 with 1 Axes>"
      ]
     },
     "metadata": {},
     "output_type": "display_data"
    }
   ],
   "source": [
    "fig, ax = plt.subplots()\n",
    "ax.plot(historico_acumulado,  '-b', label='Carteira')\n",
    "ax.plot(ibov_acumulado,  '--r', label='IBOV')\n",
    "ax.plot(cdi_acumulado,  '-g', label='CDI')\n",
    "leg = ax.legend();"
   ]
  },
  {
   "cell_type": "code",
   "execution_count": 49,
   "metadata": {},
   "outputs": [
    {
     "data": {
      "text/plain": [
       "PETR4.SA    0.308111\n",
       "WEGE3.SA    0.691889\n",
       "Name: 781, dtype: float64"
      ]
     },
     "execution_count": 49,
     "metadata": {},
     "output_type": "execute_result"
    }
   ],
   "source": [
    "pesos_min"
   ]
  },
  {
   "cell_type": "code",
   "execution_count": 50,
   "metadata": {},
   "outputs": [
    {
     "data": {
      "text/plain": [
       "0.025164518149921457"
      ]
     },
     "execution_count": 50,
     "metadata": {},
     "output_type": "execute_result"
    }
   ],
   "source": [
    "std_min"
   ]
  },
  {
   "cell_type": "code",
   "execution_count": 51,
   "metadata": {},
   "outputs": [
    {
     "data": {
      "text/plain": [
       "0.0020677147350413646"
      ]
     },
     "execution_count": 51,
     "metadata": {},
     "output_type": "execute_result"
    }
   ],
   "source": [
    "ret_min"
   ]
  },
  {
   "cell_type": "code",
   "execution_count": null,
   "metadata": {
    "collapsed": true
   },
   "outputs": [],
   "source": []
  }
 ],
 "metadata": {
  "kernelspec": {
   "display_name": "Python 3",
   "language": "python",
   "name": "python3"
  },
  "language_info": {
   "codemirror_mode": {
    "name": "ipython",
    "version": 3
   },
   "file_extension": ".py",
   "mimetype": "text/x-python",
   "name": "python",
   "nbconvert_exporter": "python",
   "pygments_lexer": "ipython3",
   "version": "3.6.1"
  }
 },
 "nbformat": 4,
 "nbformat_minor": 4
}
